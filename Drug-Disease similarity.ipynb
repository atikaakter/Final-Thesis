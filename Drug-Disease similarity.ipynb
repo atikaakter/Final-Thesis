{
 "cells": [
  {
   "cell_type": "code",
   "execution_count": 1,
   "id": "bdd83ac0",
   "metadata": {},
   "outputs": [
    {
     "name": "stdout",
     "output_type": "stream",
     "text": [
      "/share/script/hosttype: Command not found.\n",
      "/share/lib/skel/env: Command not found.\n",
      "Collecting package metadata (current_repodata.json): done\n",
      "Solving environment: done\n",
      "\n",
      "# All requested packages already installed.\n",
      "\n",
      "\n",
      "Note: you may need to restart the kernel to use updated packages.\n"
     ]
    }
   ],
   "source": [
    "conda install -c anaconda openpyxl"
   ]
  },
  {
   "cell_type": "code",
   "execution_count": 2,
   "id": "30bc25b6",
   "metadata": {},
   "outputs": [],
   "source": [
    "import numpy as np\n",
    "import pandas as pd"
   ]
  },
  {
   "cell_type": "code",
   "execution_count": 3,
   "id": "a4966058",
   "metadata": {},
   "outputs": [],
   "source": [
    "df = pd.read_excel('/home/is/mostatika-a/Research/Disease_Gene_Association.xlsx' , sheet_name='Sheet3')"
   ]
  },
  {
   "cell_type": "code",
   "execution_count": 4,
   "id": "3007dc6e",
   "metadata": {},
   "outputs": [
    {
     "name": "stderr",
     "output_type": "stream",
     "text": [
      "<ipython-input-4-31b581bc0775>:2: UserWarning: Pandas requires version '1.4.3' or newer of 'xlsxwriter' (version '1.3.8' currently installed).\n",
      "  IBD.to_excel('/home/is/mostatika-a/IBD.xlsx')\n"
     ]
    }
   ],
   "source": [
    "IBD=df.drop_duplicates()\n",
    "IBD.to_excel('/home/is/mostatika-a/IBD.xlsx')"
   ]
  },
  {
   "cell_type": "code",
   "execution_count": 5,
   "id": "8883a102",
   "metadata": {},
   "outputs": [
    {
     "ename": "AttributeError",
     "evalue": "'DataFrame' object has no attribute 'DName'",
     "output_type": "error",
     "traceback": [
      "\u001b[0;31m---------------------------------------------------------------------------\u001b[0m",
      "\u001b[0;31mAttributeError\u001b[0m                            Traceback (most recent call last)",
      "\u001b[0;32m<ipython-input-5-a71844339513>\u001b[0m in \u001b[0;36m<module>\u001b[0;34m\u001b[0m\n\u001b[1;32m      1\u001b[0m \u001b[0;31m#print(df.head(10))\u001b[0m\u001b[0;34m\u001b[0m\u001b[0;34m\u001b[0m\u001b[0;34m\u001b[0m\u001b[0m\n\u001b[0;32m----> 2\u001b[0;31m \u001b[0mdf\u001b[0m \u001b[0;34m=\u001b[0m \u001b[0mpd\u001b[0m\u001b[0;34m.\u001b[0m\u001b[0mcrosstab\u001b[0m\u001b[0;34m(\u001b[0m\u001b[0mdf\u001b[0m\u001b[0;34m.\u001b[0m\u001b[0mDName\u001b[0m\u001b[0;34m,\u001b[0m\u001b[0mdf\u001b[0m\u001b[0;34m.\u001b[0m\u001b[0mGID\u001b[0m\u001b[0;34m)\u001b[0m\u001b[0;34m\u001b[0m\u001b[0;34m\u001b[0m\u001b[0m\n\u001b[0m\u001b[1;32m      3\u001b[0m \u001b[0mdf\u001b[0m\u001b[0;34m\u001b[0m\u001b[0;34m\u001b[0m\u001b[0m\n",
      "\u001b[0;32m/opt/anaconda3/lib/python3.8/site-packages/pandas/core/generic.py\u001b[0m in \u001b[0;36m__getattr__\u001b[0;34m(self, name)\u001b[0m\n\u001b[1;32m   5900\u001b[0m         ):\n\u001b[1;32m   5901\u001b[0m             \u001b[0;32mreturn\u001b[0m \u001b[0mself\u001b[0m\u001b[0;34m[\u001b[0m\u001b[0mname\u001b[0m\u001b[0;34m]\u001b[0m\u001b[0;34m\u001b[0m\u001b[0;34m\u001b[0m\u001b[0m\n\u001b[0;32m-> 5902\u001b[0;31m         \u001b[0;32mreturn\u001b[0m \u001b[0mobject\u001b[0m\u001b[0;34m.\u001b[0m\u001b[0m__getattribute__\u001b[0m\u001b[0;34m(\u001b[0m\u001b[0mself\u001b[0m\u001b[0;34m,\u001b[0m \u001b[0mname\u001b[0m\u001b[0;34m)\u001b[0m\u001b[0;34m\u001b[0m\u001b[0;34m\u001b[0m\u001b[0m\n\u001b[0m\u001b[1;32m   5903\u001b[0m \u001b[0;34m\u001b[0m\u001b[0m\n\u001b[1;32m   5904\u001b[0m     \u001b[0;32mdef\u001b[0m \u001b[0m__setattr__\u001b[0m\u001b[0;34m(\u001b[0m\u001b[0mself\u001b[0m\u001b[0;34m,\u001b[0m \u001b[0mname\u001b[0m\u001b[0;34m:\u001b[0m \u001b[0mstr\u001b[0m\u001b[0;34m,\u001b[0m \u001b[0mvalue\u001b[0m\u001b[0;34m)\u001b[0m \u001b[0;34m->\u001b[0m \u001b[0;32mNone\u001b[0m\u001b[0;34m:\u001b[0m\u001b[0;34m\u001b[0m\u001b[0;34m\u001b[0m\u001b[0m\n",
      "\u001b[0;31mAttributeError\u001b[0m: 'DataFrame' object has no attribute 'DName'"
     ]
    }
   ],
   "source": [
    "#print(df.head(10))\n",
    "df = pd.crosstab(df.DName,df.GID)\n",
    "df"
   ]
  },
  {
   "cell_type": "code",
   "execution_count": null,
   "id": "fe5c3a21",
   "metadata": {},
   "outputs": [],
   "source": [
    "df.to_excel('/home/is/mostatika-a/Research/Disease_gene_Adjacency.xlsx')"
   ]
  },
  {
   "cell_type": "code",
   "execution_count": null,
   "id": "012e2ba7",
   "metadata": {},
   "outputs": [],
   "source": [
    "df1 = pd.read_excel('/home/is/mostatika-a/Research/Drug_Disease.xlsx')\n",
    "#print(df1.head(10))\n",
    "df2 = pd.read_excel('/home/is/mostatika-a/Research/Potential_Drug(Name).xlsx')\n",
    "#print(df2.head(10))\n"
   ]
  },
  {
   "cell_type": "code",
   "execution_count": null,
   "id": "cd639946",
   "metadata": {},
   "outputs": [],
   "source": [
    "df3 = pd.read_excel('/home/is/mostatika-a/Research/Drug_Gene.xlsx')\n",
    "print(df3.head(10))\n",
    "df4 = pd.read_excel('/home/is/mostatika-a/Research/IBD_Gene.xlsx')\n",
    "print(df4.head(10))"
   ]
  },
  {
   "cell_type": "code",
   "execution_count": null,
   "id": "00ff8e9d",
   "metadata": {},
   "outputs": [],
   "source": [
    "#list(set(df1.Chemical) & set(df2.Drug_ID))\n"
   ]
  },
  {
   "cell_type": "code",
   "execution_count": null,
   "id": "04cc0c31",
   "metadata": {},
   "outputs": [],
   "source": [
    "#Intersection\n",
    "from functools import reduce\n",
    "\n",
    "#list(reduce(set.intersection, map(set, [df1.Chemical, df2.Drug_ID])))\n"
   ]
  },
  {
   "cell_type": "code",
   "execution_count": null,
   "id": "825fc0c3",
   "metadata": {},
   "outputs": [],
   "source": [
    "drgene = pd.read_excel('/home/is/mostatika-a/Research/Drug_Gene_Disease_Gene.xlsx' , sheet_name='drgene')\n",
    "dsgene = pd.read_excel('/home/is/mostatika-a/Research/Drug_Gene_Disease_Gene.xlsx' , sheet_name='disgene')\n",
    "\n"
   ]
  },
  {
   "cell_type": "code",
   "execution_count": null,
   "id": "c077c7c3",
   "metadata": {},
   "outputs": [],
   "source": [
    "dsgene"
   ]
  },
  {
   "cell_type": "code",
   "execution_count": null,
   "id": "aa899855",
   "metadata": {},
   "outputs": [],
   "source": [
    "drgene= drgene.rename(columns=lambda x: x.strip())\n",
    "dsgene= dsgene.rename(columns=lambda x: x.strip())"
   ]
  },
  {
   "cell_type": "code",
   "execution_count": null,
   "id": "76af1d77",
   "metadata": {},
   "outputs": [],
   "source": [
    "dddata = pd.DataFrame(columns=['drug','gene', 'disease'])\n",
    "count=0\n",
    "dr = drgene['Drug'].unique()\n",
    "for pi in range (0, len(dr)-1):\n",
    "    ss = drgene.loc[drgene['Drug'] == dr[pi]]\n",
    "    for index, rs in ss.iterrows():\n",
    "        dd = dsgene.loc[dsgene['Gene'] == rs['Gene']]\n",
    "        for index , ds in dd.iterrows():\n",
    "            dddata.loc[count] = [dr[pi], rs['Gene'], ds['Disease'] ] \n",
    "            count=count+1"
   ]
  },
  {
   "cell_type": "code",
   "execution_count": null,
   "id": "daed7433",
   "metadata": {},
   "outputs": [],
   "source": [
    "dddata.head(10)"
   ]
  },
  {
   "cell_type": "code",
   "execution_count": null,
   "id": "ed8fbc0c",
   "metadata": {},
   "outputs": [],
   "source": [
    "#dddata.to_excel('/home/is/mostatika-a/drug_gene_disease.xlsx')"
   ]
  },
  {
   "cell_type": "code",
   "execution_count": null,
   "id": "4bdb2e6b",
   "metadata": {},
   "outputs": [],
   "source": [
    "dsgene = pd.read_excel('/home/is/mostatika-a/Research/Disease_Gene_Association.xlsx')\n",
    "dsgene= dsgene.rename(columns=lambda x: x.strip())\n"
   ]
  },
  {
   "cell_type": "code",
   "execution_count": null,
   "id": "3bc02839",
   "metadata": {},
   "outputs": [],
   "source": [
    "dsname = (dsgene['DName'].unique()).tolist()\n"
   ]
  },
  {
   "cell_type": "code",
   "execution_count": null,
   "id": "efc31c87",
   "metadata": {},
   "outputs": [],
   "source": [
    "#List\n",
    "disgenid = pd.DataFrame(columns=['dname','gene'])\n",
    "count=0\n",
    "for i in range(len(dsname)):\n",
    "    ss = dsgene.loc[dsgene['DName'] == dsname[i]]\n",
    "    glist = (ss['GID'].unique()).tolist()\n",
    "    disgenid.loc[count] = [dsname[i], glist] \n",
    "    count=count+1\n",
    "\n",
    "disgenid  \n"
   ]
  },
  {
   "cell_type": "code",
   "execution_count": null,
   "id": "1d46414f",
   "metadata": {},
   "outputs": [],
   "source": [
    "disgenid.to_excel('/home/is/mostatika-a/Research/DiGe_Cluster.xlsx')"
   ]
  },
  {
   "cell_type": "code",
   "execution_count": null,
   "id": "51ba7d00",
   "metadata": {},
   "outputs": [],
   "source": [
    "drgene = pd.read_excel('/home/is/mostatika-a/Research/All_Data_And_Results.xlsx' , sheet_name='Drug_Gene_Data')\n",
    "Ggene = pd.read_excel('/home/is/mostatika-a/Research/All_Data_And_Results.xlsx' , sheet_name='Gene_ID')"
   ]
  },
  {
   "cell_type": "code",
   "execution_count": null,
   "id": "ac5b3e5b",
   "metadata": {},
   "outputs": [],
   "source": [
    "drgene= drgene.rename(columns=lambda x: x.strip())\n",
    "Ggene= Ggene.rename(columns=lambda x: x.strip())"
   ]
  },
  {
   "cell_type": "code",
   "execution_count": null,
   "id": "56394f45",
   "metadata": {},
   "outputs": [],
   "source": [
    "Ggene.head(10)"
   ]
  },
  {
   "cell_type": "code",
   "execution_count": null,
   "id": "958a826e",
   "metadata": {},
   "outputs": [],
   "source": [
    "dddata = pd.DataFrame(columns=['drug','geneU', 'geneID'])\n",
    "count=0\n",
    "dr = drgene['Drug'].unique()\n",
    "for pi in range (0, len(dr)-1):\n",
    "    ss = drgene.loc[drgene['Drug'] == dr[pi]]\n",
    "    for index, rs in ss.iterrows():\n",
    "        dd = Ggene.loc[Ggene['Gene'] == rs['Gene']]\n",
    "        for index , ds in dd.iterrows():\n",
    "            dddata.loc[count] = [dr[pi], rs['Gene'], ds['GeneID'] ] \n",
    "            count=count+1"
   ]
  },
  {
   "cell_type": "code",
   "execution_count": null,
   "id": "b7aaaca6",
   "metadata": {},
   "outputs": [],
   "source": [
    "dddata.to_excel('/home/is/mostatika-a/Research/drug_GUni_GID.xlsx')"
   ]
  },
  {
   "cell_type": "code",
   "execution_count": null,
   "id": "ffbf412a",
   "metadata": {},
   "outputs": [],
   "source": [
    "dsgene = pd.read_excel('/home/is/mostatika-a/Research/Disease_Gene_Association.xlsx')\n",
    "dsgene= dsgene.rename(columns=lambda x: x.strip())\n",
    "Out = pd.read_excel('/home/is/mostatika-a/Research/Output.xlsx' , sheet_name='Sheet1')\n",
    "Out = Out.rename(columns=lambda x: x.strip())"
   ]
  },
  {
   "cell_type": "code",
   "execution_count": null,
   "id": "f2a5b68b",
   "metadata": {},
   "outputs": [],
   "source": [
    "dsgene\n"
   ]
  },
  {
   "cell_type": "code",
   "execution_count": null,
   "id": "9f7dd029",
   "metadata": {},
   "outputs": [],
   "source": [
    "Out"
   ]
  },
  {
   "cell_type": "code",
   "execution_count": null,
   "id": "df8862d9",
   "metadata": {},
   "outputs": [],
   "source": [
    "dddata = pd.DataFrame(columns=['GeneID','DName', 'SimID'])\n",
    "count=0\n",
    "gid = dsgene['GID'].unique()\n",
    "for pi in range (0, len(gid)-1):\n",
    "    ss = dsgene.loc[dsgene['GID'] == gid[pi]]\n",
    "    for index, rs in ss.iterrows():\n",
    "        dd = Out.loc[Out['DName'] == rs['DName']]\n",
    "        for index , ds in dd.iterrows():\n",
    "            dddata.loc[count] = [gid[pi], rs['DName'], ds['SimID'] ] \n",
    "            count=count+1"
   ]
  },
  {
   "cell_type": "code",
   "execution_count": null,
   "id": "106ef82d",
   "metadata": {},
   "outputs": [],
   "source": [
    "dddata.to_excel('/home/is/mostatika-a/Research/gID_DName_simID.xlsx')"
   ]
  },
  {
   "cell_type": "code",
   "execution_count": null,
   "id": "17f80453",
   "metadata": {},
   "outputs": [],
   "source": [
    "dsgene = pd.read_excel('/home/is/mostatika-a/Research/Disease_Gene_Association.xlsx', sheet_name='gID_DName_simID')\n",
    "dsgene= dsgene.rename(columns=lambda x: x.strip())\n",
    "drgene = pd.read_excel('/home/is/mostatika-a/Research/Disease_Gene_Association.xlsx' , sheet_name='drug_GUni_GID')\n",
    "drgene = drgene.rename(columns=lambda x: x.strip())"
   ]
  },
  {
   "cell_type": "code",
   "execution_count": null,
   "id": "63547b87",
   "metadata": {},
   "outputs": [],
   "source": [
    "dsgene"
   ]
  },
  {
   "cell_type": "code",
   "execution_count": null,
   "id": "8428f921",
   "metadata": {},
   "outputs": [],
   "source": [
    "drgene"
   ]
  },
  {
   "cell_type": "code",
   "execution_count": null,
   "id": "aac3e3b8",
   "metadata": {},
   "outputs": [],
   "source": [
    "dddata = pd.DataFrame(columns=['drug','GeneID', 'SimID'])\n",
    "count=0\n",
    "dr = drgene['drug'].unique()\n",
    "for pi in range (0, len(dr)-1):\n",
    "    ss = drgene.loc[drgene['drug'] == dr[pi]]\n",
    "    for index, rs in ss.iterrows():\n",
    "        dd = dsgene.loc[dsgene['GeneID'] == rs['GeneID']]\n",
    "        for index , ds in dd.iterrows():\n",
    "            dddata.loc[count] = [dr[pi], rs['GeneID'], ds['SimID'] ] \n",
    "            count=count+1"
   ]
  },
  {
   "cell_type": "code",
   "execution_count": null,
   "id": "b3d29c52",
   "metadata": {},
   "outputs": [],
   "source": [
    "dddata1 = pd.DataFrame(columns=['drug','DName', 'SimID','GeneID'])\n",
    "count=0\n",
    "dr = drgene['drug'].unique()\n",
    "for pi in range (0, len(dr)-1):\n",
    "    ss = drgene.loc[drgene['drug'] == dr[pi]]\n",
    "    for index, rs in ss.iterrows():\n",
    "        dd = dsgene.loc[dsgene['GeneID'] == rs['GeneID']]\n",
    "        for index , ds in dd.iterrows():\n",
    "            for index , cs in dd.iterrows():\n",
    "                dddata1.loc[count] = [dr[pi], cs['DName'], ds['SimID'],rs['GeneID'] ] \n",
    "                count=count+1"
   ]
  },
  {
   "cell_type": "code",
   "execution_count": null,
   "id": "b2245c02",
   "metadata": {},
   "outputs": [],
   "source": [
    "dddata.to_excel('/home/is/mostatika-a/Research/Out.xlsx')"
   ]
  },
  {
   "cell_type": "code",
   "execution_count": null,
   "id": "dc83a6a8",
   "metadata": {},
   "outputs": [],
   "source": [
    "out = pd.read_excel('/home/is/mostatika-a/Research/Out(Drug_SID).xlsx')\n",
    "out= out.rename(columns=lambda x: x.strip())"
   ]
  },
  {
   "cell_type": "code",
   "execution_count": null,
   "id": "fb2bdf6d",
   "metadata": {},
   "outputs": [],
   "source": [
    "out=out.drop_duplicates()\n",
    "\n"
   ]
  },
  {
   "cell_type": "code",
   "execution_count": null,
   "id": "455a4efb",
   "metadata": {},
   "outputs": [],
   "source": [
    "out.to_excel('/home/is/mostatika-a/Research/UniqueVal.xlsx')"
   ]
  },
  {
   "cell_type": "code",
   "execution_count": null,
   "id": "42d504a3",
   "metadata": {},
   "outputs": [],
   "source": [
    "out"
   ]
  },
  {
   "cell_type": "code",
   "execution_count": null,
   "id": "d3415957",
   "metadata": {},
   "outputs": [],
   "source": [
    "dr = pd.read_excel('/home/is/mostatika-a/Research/Output_Result.xlsx', sheet_name='Cut_off')\n",
    "dr= dr.rename(columns=lambda x: x.strip())"
   ]
  },
  {
   "cell_type": "code",
   "execution_count": null,
   "id": "f17ebec0",
   "metadata": {},
   "outputs": [],
   "source": [
    "dr"
   ]
  },
  {
   "cell_type": "code",
   "execution_count": null,
   "id": "5e6cfe27",
   "metadata": {},
   "outputs": [],
   "source": [
    "import matplotlib.pyplot as plt\n",
    "#dr.hist(column='SimID', bins=5, grid=False, rwidth=.5, color='green')\n",
    "#dr.plot(x='SimID', y='Number of Drug')\n",
    "dr.plot('SimID', 'Number of Drug', color='red');\n",
    "\n"
   ]
  },
  {
   "cell_type": "code",
   "execution_count": null,
   "id": "8b838574",
   "metadata": {},
   "outputs": [],
   "source": [
    "out = pd.read_excel('/home/is/mostatika-a/Research/Book1.xlsx')\n",
    "out= out.rename(columns=lambda x: x.strip())"
   ]
  },
  {
   "cell_type": "code",
   "execution_count": null,
   "id": "2f58917f",
   "metadata": {},
   "outputs": [],
   "source": [
    "out"
   ]
  },
  {
   "cell_type": "code",
   "execution_count": null,
   "id": "0bce21c4",
   "metadata": {},
   "outputs": [],
   "source": [
    "out=pd.crosstab(out.drug,out.SimID)"
   ]
  },
  {
   "cell_type": "code",
   "execution_count": null,
   "id": "dcb92b7b",
   "metadata": {},
   "outputs": [],
   "source": [
    "out"
   ]
  },
  {
   "cell_type": "code",
   "execution_count": null,
   "id": "9e6e83f0",
   "metadata": {},
   "outputs": [],
   "source": [
    "out.to_excel('/home/is/mostatika-a/Research/UniqueVal.xlsx')"
   ]
  },
  {
   "cell_type": "code",
   "execution_count": null,
   "id": "817568ac",
   "metadata": {},
   "outputs": [],
   "source": [
    "dsID = pd.read_excel('/home/is/mostatika-a/Research/Disease_Gene_Association.xlsx', sheet_name='ClusterSimOut')\n",
    "dsID= dsID.rename(columns=lambda x: x.strip())\n",
    "drID = pd.read_excel('/home/is/mostatika-a/Research/Book1.xlsx' , sheet_name='Sheet1')\n",
    "drID = drID.rename(columns=lambda x: x.strip())"
   ]
  },
  {
   "cell_type": "code",
   "execution_count": null,
   "id": "f464d6a1",
   "metadata": {},
   "outputs": [],
   "source": [
    "dsID"
   ]
  },
  {
   "cell_type": "code",
   "execution_count": null,
   "id": "39e55135",
   "metadata": {},
   "outputs": [],
   "source": [
    "dddata = pd.DataFrame(columns=['drug','Disease', 'SimID'])\n",
    "count=0\n",
    "dr = drID['drug'].unique()\n",
    "for pi in range (0, len(dr)-1):\n",
    "    ss = drID.loc[drID['drug'] == dr[pi]]\n",
    "    for index, rs in ss.iterrows():\n",
    "        dd = dsID.loc[dsID['SimID'] == rs['SimID']]\n",
    "        for index , ds in dd.iterrows():\n",
    "            dddata.loc[count] = [dr[pi], rs['SimID'], ds['diseaseName'] ] \n",
    "            count=count+1"
   ]
  },
  {
   "cell_type": "code",
   "execution_count": null,
   "id": "52b5a3ca",
   "metadata": {},
   "outputs": [],
   "source": [
    "#Unique Value Count\n",
    "df = pd.read_excel('/home/is/mostatika-a/Research/Book1.xlsx')\n"
   ]
  },
  {
   "cell_type": "code",
   "execution_count": null,
   "id": "c053f31a",
   "metadata": {},
   "outputs": [],
   "source": [
    "print(df['Drug'].value_counts())"
   ]
  },
  {
   "cell_type": "code",
   "execution_count": null,
   "id": "d94c2e1d",
   "metadata": {},
   "outputs": [],
   "source": [
    "dddata.to_excel('/home/is/mostatika-a/Research/DrDis.xlsx')"
   ]
  },
  {
   "cell_type": "code",
   "execution_count": null,
   "id": "17b07b29",
   "metadata": {},
   "outputs": [],
   "source": [
    "out=pd.crosstab(dddata.drug,dddata.SimID)"
   ]
  },
  {
   "cell_type": "code",
   "execution_count": null,
   "id": "f2b5e021",
   "metadata": {},
   "outputs": [],
   "source": [
    "out.to_excel('/home/is/mostatika-a/Research/DrDis.xlsx')"
   ]
  },
  {
   "cell_type": "code",
   "execution_count": null,
   "id": "07ca431a",
   "metadata": {},
   "outputs": [],
   "source": [
    "df = pd.read_excel('/home/is/mostatika-a/Research/Dr_clus_result.xlsx')\n",
    "df"
   ]
  },
  {
   "cell_type": "code",
   "execution_count": null,
   "id": "127b3271",
   "metadata": {},
   "outputs": [],
   "source": [
    "print(df['Drug'].value_counts())"
   ]
  },
  {
   "cell_type": "code",
   "execution_count": null,
   "id": "2150ea65",
   "metadata": {},
   "outputs": [],
   "source": [
    "group = df.groupby('Drug')\n",
    "\n",
    "dddata = group.apply(lambda x: x['S-score'].unique())\n",
    "dddata"
   ]
  },
  {
   "cell_type": "code",
   "execution_count": null,
   "id": "dbbe3c9c",
   "metadata": {},
   "outputs": [],
   "source": [
    "dddata.to_excel('/home/is/mostatika-a/Research/Sample.xlsx')"
   ]
  },
  {
   "cell_type": "code",
   "execution_count": null,
   "id": "393c23e9",
   "metadata": {},
   "outputs": [],
   "source": [
    "#Add multiple column to a single column\n",
    "new_df=df.melt()\n",
    "new_df.to_excel('/home/is/mostatika-a/Research/Dr_clus_res.xlsx')"
   ]
  },
  {
   "cell_type": "code",
   "execution_count": null,
   "id": "d126b55b",
   "metadata": {},
   "outputs": [],
   "source": [
    "dddata = df.apply(pd.Series)"
   ]
  },
  {
   "cell_type": "code",
   "execution_count": null,
   "id": "1483fa7b",
   "metadata": {},
   "outputs": [],
   "source": [
    "dddata"
   ]
  },
  {
   "cell_type": "code",
   "execution_count": null,
   "id": "d9299543",
   "metadata": {},
   "outputs": [],
   "source": [
    "dddata.to_excel('/home/is/mostatika-a/Research/Sample.xlsx')"
   ]
  },
  {
   "cell_type": "code",
   "execution_count": null,
   "id": "39bb5099",
   "metadata": {},
   "outputs": [],
   "source": [
    "dr = pd.read_excel('/home/is/mostatika-a/Research/Book1.xlsx')\n"
   ]
  },
  {
   "cell_type": "code",
   "execution_count": null,
   "id": "31bd217b",
   "metadata": {},
   "outputs": [],
   "source": [
    "dr.tail(10)"
   ]
  },
  {
   "cell_type": "code",
   "execution_count": null,
   "id": "318cf752",
   "metadata": {},
   "outputs": [],
   "source": [
    "dr = pd.DataFrame(dr).T\n",
    "print(dr)"
   ]
  },
  {
   "cell_type": "code",
   "execution_count": null,
   "id": "b51dd222",
   "metadata": {},
   "outputs": [],
   "source": [
    "dr.to_excel('/home/is/mostatika-a/Research/Sample1.xlsx')"
   ]
  },
  {
   "cell_type": "code",
   "execution_count": null,
   "id": "da2318cb",
   "metadata": {},
   "outputs": [],
   "source": [
    "df = pd.read_excel('/home/is/mostatika-a/Research/Disease_Gene_Association.xlsx',sheet_name='ClusterSimOut' )\n",
    "df\n"
   ]
  },
  {
   "cell_type": "code",
   "execution_count": null,
   "id": "65d3c15a",
   "metadata": {},
   "outputs": [],
   "source": [
    "\n",
    "#sum(df.gene.tolist(),[])\n",
    "a=pd.DataFrame({'diseaseName':df.diseaseName.repeat(df.gene.str.len()),'gene':sum(df.gene.tolist(),[])})\n"
   ]
  },
  {
   "cell_type": "code",
   "execution_count": null,
   "id": "42bb9a34",
   "metadata": {},
   "outputs": [],
   "source": [
    "a"
   ]
  },
  {
   "cell_type": "code",
   "execution_count": 6,
   "id": "43b3ea45",
   "metadata": {},
   "outputs": [
    {
     "name": "stdout",
     "output_type": "stream",
     "text": [
      "/share/script/hosttype: Command not found.\n",
      "/share/lib/skel/env: Command not found.\n",
      "\u001b[33mWARNING: Ignoring invalid distribution -umpy (/opt/anaconda3/lib/python3.8/site-packages)\u001b[0m\u001b[33m\n",
      "\u001b[0m\u001b[33mWARNING: Ignoring invalid distribution -ip (/opt/anaconda3/lib/python3.8/site-packages)\u001b[0m\u001b[33m\n",
      "\u001b[0m\u001b[33mWARNING: Ignoring invalid distribution -umpy (/opt/anaconda3/lib/python3.8/site-packages)\u001b[0m\u001b[33m\n",
      "\u001b[0m\u001b[33mWARNING: Ignoring invalid distribution -ip (/opt/anaconda3/lib/python3.8/site-packages)\u001b[0m\u001b[33m\n",
      "\u001b[0mRequirement already satisfied: matplotlib in /opt/anaconda3/lib/python3.8/site-packages (3.3.4)\n",
      "Requirement already satisfied: pyparsing!=2.0.4,!=2.1.2,!=2.1.6,>=2.0.3 in /opt/anaconda3/lib/python3.8/site-packages (from matplotlib) (2.4.7)\n",
      "Requirement already satisfied: pillow>=6.2.0 in /opt/anaconda3/lib/python3.8/site-packages (from matplotlib) (8.2.0)\n",
      "Requirement already satisfied: python-dateutil>=2.1 in /opt/anaconda3/lib/python3.8/site-packages (from matplotlib) (2.8.1)\n",
      "Requirement already satisfied: cycler>=0.10 in /opt/anaconda3/lib/python3.8/site-packages (from matplotlib) (0.10.0)\n",
      "Requirement already satisfied: kiwisolver>=1.0.1 in /opt/anaconda3/lib/python3.8/site-packages (from matplotlib) (1.3.1)\n",
      "Requirement already satisfied: numpy>=1.15 in /opt/anaconda3/lib/python3.8/site-packages (from matplotlib) (1.22.1)\n",
      "Requirement already satisfied: six in /opt/anaconda3/lib/python3.8/site-packages (from cycler>=0.10->matplotlib) (1.15.0)\n",
      "\u001b[33mWARNING: Ignoring invalid distribution -umpy (/opt/anaconda3/lib/python3.8/site-packages)\u001b[0m\u001b[33m\n",
      "\u001b[0m\u001b[33mWARNING: Ignoring invalid distribution -ip (/opt/anaconda3/lib/python3.8/site-packages)\u001b[0m\u001b[33m\n",
      "\u001b[0m\u001b[33mWARNING: Ignoring invalid distribution -umpy (/opt/anaconda3/lib/python3.8/site-packages)\u001b[0m\u001b[33m\n",
      "\u001b[0m\u001b[33mWARNING: Ignoring invalid distribution -ip (/opt/anaconda3/lib/python3.8/site-packages)\u001b[0m\u001b[33m\n",
      "\u001b[0m\u001b[33mWARNING: Ignoring invalid distribution -umpy (/opt/anaconda3/lib/python3.8/site-packages)\u001b[0m\u001b[33m\n",
      "\u001b[0m\u001b[33mWARNING: Ignoring invalid distribution -ip (/opt/anaconda3/lib/python3.8/site-packages)\u001b[0m\u001b[33m\n",
      "\u001b[0m\u001b[33mWARNING: Ignoring invalid distribution -umpy (/opt/anaconda3/lib/python3.8/site-packages)\u001b[0m\u001b[33m\n",
      "\u001b[0m\u001b[33mWARNING: Ignoring invalid distribution -ip (/opt/anaconda3/lib/python3.8/site-packages)\u001b[0m\u001b[33m\n",
      "\u001b[0mNote: you may need to restart the kernel to use updated packages.\n"
     ]
    }
   ],
   "source": [
    "pip install matplotlib\n"
   ]
  },
  {
   "cell_type": "code",
   "execution_count": 8,
   "id": "02ad713b",
   "metadata": {},
   "outputs": [
    {
     "data": {
      "text/html": [
       "<div>\n",
       "<style scoped>\n",
       "    .dataframe tbody tr th:only-of-type {\n",
       "        vertical-align: middle;\n",
       "    }\n",
       "\n",
       "    .dataframe tbody tr th {\n",
       "        vertical-align: top;\n",
       "    }\n",
       "\n",
       "    .dataframe thead th {\n",
       "        text-align: right;\n",
       "    }\n",
       "</style>\n",
       "<table border=\"1\" class=\"dataframe\">\n",
       "  <thead>\n",
       "    <tr style=\"text-align: right;\">\n",
       "      <th></th>\n",
       "      <th>diseaseName</th>\n",
       "      <th>SimID</th>\n",
       "    </tr>\n",
       "  </thead>\n",
       "  <tbody>\n",
       "    <tr>\n",
       "      <th>0</th>\n",
       "      <td>Inflammatory Bowel Diseases</td>\n",
       "      <td>1.000</td>\n",
       "    </tr>\n",
       "    <tr>\n",
       "      <th>1</th>\n",
       "      <td>Colitis</td>\n",
       "      <td>0.981</td>\n",
       "    </tr>\n",
       "    <tr>\n",
       "      <th>2</th>\n",
       "      <td>Crohn Disease</td>\n",
       "      <td>0.980</td>\n",
       "    </tr>\n",
       "    <tr>\n",
       "      <th>3</th>\n",
       "      <td>Lupus Erythematosus, Systemic</td>\n",
       "      <td>0.980</td>\n",
       "    </tr>\n",
       "    <tr>\n",
       "      <th>4</th>\n",
       "      <td>Leishmaniasis, Visceral</td>\n",
       "      <td>0.975</td>\n",
       "    </tr>\n",
       "    <tr>\n",
       "      <th>5</th>\n",
       "      <td>Asthma, Aspirin-Induced</td>\n",
       "      <td>0.846</td>\n",
       "    </tr>\n",
       "    <tr>\n",
       "      <th>6</th>\n",
       "      <td>Alopecia</td>\n",
       "      <td>0.845</td>\n",
       "    </tr>\n",
       "    <tr>\n",
       "      <th>7</th>\n",
       "      <td>Essential Hypertension</td>\n",
       "      <td>0.844</td>\n",
       "    </tr>\n",
       "    <tr>\n",
       "      <th>8</th>\n",
       "      <td>Vitiligo</td>\n",
       "      <td>0.844</td>\n",
       "    </tr>\n",
       "    <tr>\n",
       "      <th>9</th>\n",
       "      <td>Hyperactive behavior</td>\n",
       "      <td>0.842</td>\n",
       "    </tr>\n",
       "    <tr>\n",
       "      <th>10</th>\n",
       "      <td>Tonic-Clonic Epilepsy</td>\n",
       "      <td>0.791</td>\n",
       "    </tr>\n",
       "    <tr>\n",
       "      <th>11</th>\n",
       "      <td>Alcoholic Intoxication, Chronic</td>\n",
       "      <td>0.788</td>\n",
       "    </tr>\n",
       "    <tr>\n",
       "      <th>12</th>\n",
       "      <td>Inflammatory dermatosis</td>\n",
       "      <td>0.785</td>\n",
       "    </tr>\n",
       "    <tr>\n",
       "      <th>13</th>\n",
       "      <td>Catalepsy</td>\n",
       "      <td>0.784</td>\n",
       "    </tr>\n",
       "    <tr>\n",
       "      <th>14</th>\n",
       "      <td>Finding of Mean Corpuscular Hemoglobin</td>\n",
       "      <td>0.700</td>\n",
       "    </tr>\n",
       "    <tr>\n",
       "      <th>15</th>\n",
       "      <td>Allergic rhinitis (disorder)</td>\n",
       "      <td>0.698</td>\n",
       "    </tr>\n",
       "    <tr>\n",
       "      <th>16</th>\n",
       "      <td>Impaired glucose tolerance</td>\n",
       "      <td>0.696</td>\n",
       "    </tr>\n",
       "    <tr>\n",
       "      <th>17</th>\n",
       "      <td>Long QT Syndrome</td>\n",
       "      <td>0.693</td>\n",
       "    </tr>\n",
       "    <tr>\n",
       "      <th>18</th>\n",
       "      <td>Sensorineural Hearing Loss (disorder)</td>\n",
       "      <td>0.609</td>\n",
       "    </tr>\n",
       "    <tr>\n",
       "      <th>19</th>\n",
       "      <td>Neoplasms, Germ Cell and Embryonal</td>\n",
       "      <td>0.607</td>\n",
       "    </tr>\n",
       "    <tr>\n",
       "      <th>20</th>\n",
       "      <td>Craniosynostosis</td>\n",
       "      <td>0.600</td>\n",
       "    </tr>\n",
       "    <tr>\n",
       "      <th>21</th>\n",
       "      <td>Cardiomyopathy, Hypertrophic, Familial</td>\n",
       "      <td>0.597</td>\n",
       "    </tr>\n",
       "    <tr>\n",
       "      <th>22</th>\n",
       "      <td>Amino Acid Metabolism, Inborn Errors</td>\n",
       "      <td>0.596</td>\n",
       "    </tr>\n",
       "    <tr>\n",
       "      <th>23</th>\n",
       "      <td>Brugada Syndrome (disorder)</td>\n",
       "      <td>0.493</td>\n",
       "    </tr>\n",
       "    <tr>\n",
       "      <th>24</th>\n",
       "      <td>Myoclonic Epilepsies, Progressive</td>\n",
       "      <td>0.491</td>\n",
       "    </tr>\n",
       "    <tr>\n",
       "      <th>25</th>\n",
       "      <td>Menopause present (finding)</td>\n",
       "      <td>0.486</td>\n",
       "    </tr>\n",
       "    <tr>\n",
       "      <th>26</th>\n",
       "      <td>Williams Syndrome</td>\n",
       "      <td>0.485</td>\n",
       "    </tr>\n",
       "    <tr>\n",
       "      <th>27</th>\n",
       "      <td>Absence Epilepsy</td>\n",
       "      <td>0.484</td>\n",
       "    </tr>\n",
       "    <tr>\n",
       "      <th>28</th>\n",
       "      <td>Hearing Loss, Partial</td>\n",
       "      <td>0.479</td>\n",
       "    </tr>\n",
       "    <tr>\n",
       "      <th>29</th>\n",
       "      <td>Early infantile epileptic encephalopathy with ...</td>\n",
       "      <td>0.472</td>\n",
       "    </tr>\n",
       "  </tbody>\n",
       "</table>\n",
       "</div>"
      ],
      "text/plain": [
       "                                          diseaseName  SimID\n",
       "0                         Inflammatory Bowel Diseases  1.000\n",
       "1                                             Colitis  0.981\n",
       "2                                       Crohn Disease  0.980\n",
       "3                       Lupus Erythematosus, Systemic  0.980\n",
       "4                             Leishmaniasis, Visceral  0.975\n",
       "5                             Asthma, Aspirin-Induced  0.846\n",
       "6                                            Alopecia  0.845\n",
       "7                              Essential Hypertension  0.844\n",
       "8                                            Vitiligo  0.844\n",
       "9                                Hyperactive behavior  0.842\n",
       "10                              Tonic-Clonic Epilepsy  0.791\n",
       "11                    Alcoholic Intoxication, Chronic  0.788\n",
       "12                            Inflammatory dermatosis  0.785\n",
       "13                                          Catalepsy  0.784\n",
       "14             Finding of Mean Corpuscular Hemoglobin  0.700\n",
       "15                       Allergic rhinitis (disorder)  0.698\n",
       "16                         Impaired glucose tolerance  0.696\n",
       "17                                   Long QT Syndrome  0.693\n",
       "18              Sensorineural Hearing Loss (disorder)  0.609\n",
       "19                 Neoplasms, Germ Cell and Embryonal  0.607\n",
       "20                                   Craniosynostosis  0.600\n",
       "21             Cardiomyopathy, Hypertrophic, Familial  0.597\n",
       "22               Amino Acid Metabolism, Inborn Errors  0.596\n",
       "23                        Brugada Syndrome (disorder)  0.493\n",
       "24                  Myoclonic Epilepsies, Progressive  0.491\n",
       "25                        Menopause present (finding)  0.486\n",
       "26                                  Williams Syndrome  0.485\n",
       "27                                   Absence Epilepsy  0.484\n",
       "28                              Hearing Loss, Partial  0.479\n",
       "29  Early infantile epileptic encephalopathy with ...  0.472"
      ]
     },
     "execution_count": 8,
     "metadata": {},
     "output_type": "execute_result"
    }
   ],
   "source": [
    "import matplotlib.pyplot as plt\n",
    "from matplotlib.pyplot import hist\n",
    "df = pd.read_excel('/home/is/mostatika-a/Research/EX.xlsx' )\n",
    "data= df.head(30)\n",
    "data"
   ]
  },
  {
   "cell_type": "code",
   "execution_count": null,
   "id": "1083be38",
   "metadata": {},
   "outputs": [],
   "source": []
  },
  {
   "cell_type": "code",
   "execution_count": 29,
   "id": "260460f9",
   "metadata": {},
   "outputs": [
    {
     "data": {
      "image/png": "[encoded data removed]",
      "text/plain": [
       "<Figure size 432x288 with 1 Axes>"
      ]
     },
     "metadata": {
      "needs_background": "light"
     },
     "output_type": "display_data"
    }
   ],
   "source": [
    "fig=data.plot.bar(x = 'diseaseName', y='SimID')\n",
    "\n",
    "\n"
   ]
  },
  {
   "cell_type": "code",
   "execution_count": 27,
   "id": "926b7a1f",
   "metadata": {},
   "outputs": [
    {
     "ename": "AttributeError",
     "evalue": "'AxesSubplot' object has no attribute 'set_dpi'",
     "output_type": "error",
     "traceback": [
      "\u001b[0;31m---------------------------------------------------------------------------\u001b[0m",
      "\u001b[0;31mAttributeError\u001b[0m                            Traceback (most recent call last)",
      "\u001b[0;32m<ipython-input-27-42ace960a1c2>\u001b[0m in \u001b[0;36m<module>\u001b[0;34m\u001b[0m\n\u001b[0;32m----> 1\u001b[0;31m \u001b[0mfig\u001b[0m\u001b[0;34m.\u001b[0m\u001b[0mset_dpi\u001b[0m\u001b[0;34m(\u001b[0m\u001b[0;36m300\u001b[0m\u001b[0;34m)\u001b[0m\u001b[0;34m\u001b[0m\u001b[0;34m\u001b[0m\u001b[0m\n\u001b[0m",
      "\u001b[0;31mAttributeError\u001b[0m: 'AxesSubplot' object has no attribute 'set_dpi'"
     ]
    }
   ],
   "source": [
    "fig.set_dpi(300)\n"
   ]
  },
  {
   "cell_type": "code",
   "execution_count": null,
   "id": "e951879b",
   "metadata": {},
   "outputs": [],
   "source": []
  }
 ],
 "metadata": {
  "kernelspec": {
   "display_name": "Python 3",
   "language": "python",
   "name": "python3"
  },
  "language_info": {
   "codemirror_mode": {
    "name": "ipython",
    "version": 3
   },
   "file_extension": ".py",
   "mimetype": "text/x-python",
   "name": "python",
   "nbconvert_exporter": "python",
   "pygments_lexer": "ipython3",
   "version": "3.8.8"
  }
 },
 "nbformat": 4,
 "nbformat_minor": 5
}
