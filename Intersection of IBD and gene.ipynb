{
 "cells": [
  {
   "cell_type": "code",
   "execution_count": 9,
   "id": "a8ab62b9",
   "metadata": {},
   "outputs": [],
   "source": [
    "import numpy as np\n",
    "import pandas as pd\n",
    "\n"
   ]
  },
  {
   "cell_type": "code",
   "execution_count": 11,
   "id": "2a1432e2",
   "metadata": {},
   "outputs": [
    {
     "name": "stdout",
     "output_type": "stream",
     "text": [
      "      Drug    Gene\n",
      "0  DB00357  P05108\n",
      "1  DB02721  P00325\n",
      "2  DB00773  P23219\n",
      "3  DB07138  Q16539\n",
      "4  DB08136  P24941\n",
      "5  DB01242  P23975\n",
      "6  DB01238  P08173\n",
      "7  DB00186  P48169\n",
      "8  DB00338  P10635\n",
      "9  DB01151  P08913\n"
     ]
    }
   ],
   "source": [
    "df1 = pd.read_excel('/home/is/mostatika-a/Research/Drug_Gene(1).xlsx')\n",
    "print(df1.head(10))\n",
    "#df2 = pd.read_excel('/home/is/mostatika-a/Research/Bipertite_CLuster_Gene(ID_to_Symbol_Converted).xlsx')\n",
    "#print(df2.head(10))"
   ]
  },
  {
   "cell_type": "code",
   "execution_count": null,
   "id": "f4d0e96d",
   "metadata": {},
   "outputs": [],
   "source": [
    "comparison_column = np.where(df[\"col1\"] == df[\"col2\"], True, False)"
   ]
  },
  {
   "cell_type": "code",
   "execution_count": 9,
   "id": "cce6d94b",
   "metadata": {},
   "outputs": [
    {
     "name": "stdout",
     "output_type": "stream",
     "text": [
      "   IBD Gene\n",
      "0     TUBD1\n",
      "1     ARPC2\n",
      "2    PGGT1B\n",
      "3   SLC15A1\n",
      "4    ADORA3\n",
      "5     MGAT1\n",
      "6      AOC1\n",
      "7    IMPDH1\n",
      "8  HLA-DQA2\n",
      "9   ADORA2B\n",
      "       C1               C2      C3      C4               C5       C6      C7  \\\n",
      "0  CYP3A4           CYP1A2  ADRA1A  ADRA1A          CYP2C19   CYP1A2  CYP3A4   \n",
      "1  GABRA1          CYP2C19  ADRA1B  ADRA1B           CYP2C8  CYP2C19  GABRA1   \n",
      "2  GABRA2           CYP2C8  ADRA1D  ADRA1D           CYP2C9   CYP2C8  GABRA2   \n",
      "3  GABRA3           CYP2C9  ADRA2A  ADRA2A           CYP2D6   CYP2C9  GABRA3   \n",
      "4  GABRA4           CYP2D6  ADRA2B  ADRA2B           CYP3A4   CYP2D6  GABRA4   \n",
      "5  GABRA5           CYP3A4  ADRA2C  ADRA2C           CYP3A5   CYP3A4  GABRA5   \n",
      "6  GABRA6           CYP3A5   CHRM1   CHRM1  CYP3A7-CYP3A51P   CYP3A5  GABRA6   \n",
      "7  GABRB1  CYP3A7-CYP3A51P   CHRM2   CHRM2              NaN      NaN  GABRB1   \n",
      "8  GABRB2              NaN   CHRM3   CHRM3              NaN      NaN  GABRB2   \n",
      "9  GABRB3              NaN   CHRM4   CHRM4              NaN      NaN  GABRB3   \n",
      "\n",
      "        C8       C9      C10  ...    C330    C331   C332      C333    C334  \\\n",
      "0   CYP1A2   CYP1A2   CYP1A2  ...  CYP3A4  CYP2C8  NCOA1  CHRFAM7A  CYP1A2   \n",
      "1  CYP2C19  CYP2C19  CYP2C19  ...  SLC6A2  CYP3A4  PPARA    CHRNA3   IGF1R   \n",
      "2   CYP2C8   CYP2C8   CYP2C8  ...  SLC6A3    THRA  PPARD    CHRNA4    INSR   \n",
      "3   CYP2C9   CYP2C9   CYP2C9  ...  SLC6A4    THRB  PPARG    CHRNA6     NaN   \n",
      "4   CYP2D6   CYP2D6   CYP2D6  ...     NaN     NaN    NaN       NaN     NaN   \n",
      "5   CYP3A4   CYP3A4   CYP3A4  ...     NaN     NaN    NaN       NaN     NaN   \n",
      "6      NaN      NaN      NaN  ...     NaN     NaN    NaN       NaN     NaN   \n",
      "7      NaN      NaN      NaN  ...     NaN     NaN    NaN       NaN     NaN   \n",
      "8      NaN      NaN      NaN  ...     NaN     NaN    NaN       NaN     NaN   \n",
      "9      NaN      NaN      NaN  ...     NaN     NaN    NaN       NaN     NaN   \n",
      "\n",
      "    C335     C336    C337   C338   C339  \n",
      "0    DCK   ATP1A1  AVPR1A  ADCY2  NCOA2  \n",
      "1  POLA1  CYP11A1   AVPR2  ADCY5  PPARG  \n",
      "2   RRM1   CYP3A4  CYP3A4   GNAS   RXRA  \n",
      "3    NaN      NaN     NaN    NaN    NaN  \n",
      "4    NaN      NaN     NaN    NaN    NaN  \n",
      "5    NaN      NaN     NaN    NaN    NaN  \n",
      "6    NaN      NaN     NaN    NaN    NaN  \n",
      "7    NaN      NaN     NaN    NaN    NaN  \n",
      "8    NaN      NaN     NaN    NaN    NaN  \n",
      "9    NaN      NaN     NaN    NaN    NaN  \n",
      "\n",
      "[10 rows x 339 columns]\n"
     ]
    }
   ],
   "source": [
    "df1 = pd.read_excel('/home/is/mostatika-a/Research/Common IBD Gene (New).xlsx')\n",
    "print(df1.head(10))\n",
    "df2 = pd.read_excel('/home/is/mostatika-a/Research/Bipertite_CLuster_Gene(ID_to_Symbol_Converted).xlsx')\n",
    "print(df2.head(10))"
   ]
  },
  {
   "cell_type": "code",
   "execution_count": 501,
   "id": "480497aa",
   "metadata": {},
   "outputs": [],
   "source": [
    "#df = pd.merge(df1, df2, how ='inner', on =['IBD Gene'])\n",
    "#df"
   ]
  },
  {
   "cell_type": "code",
   "execution_count": 417,
   "id": "3888e22f",
   "metadata": {},
   "outputs": [
    {
     "name": "stdout",
     "output_type": "stream",
     "text": [
      "False\n"
     ]
    },
    {
     "name": "stderr",
     "output_type": "stream",
     "text": [
      "<ipython-input-417-ecf76daa434c>:1: DeprecationWarning: elementwise comparison failed; this will raise an error in the future.\n",
      "  comparison_values = df1.values == df2.values\n"
     ]
    }
   ],
   "source": [
    "comparison_values = df1.values == df2.values\n",
    "print (comparison_values)"
   ]
  },
  {
   "cell_type": "code",
   "execution_count": 3,
   "id": "032d849f",
   "metadata": {},
   "outputs": [
    {
     "ename": "NameError",
     "evalue": "name 'df2' is not defined",
     "output_type": "error",
     "traceback": [
      "\u001b[0;31m---------------------------------------------------------------------------\u001b[0m",
      "\u001b[0;31mNameError\u001b[0m                                 Traceback (most recent call last)",
      "\u001b[0;32m<ipython-input-3-5e5bd3d0ed4c>\u001b[0m in \u001b[0;36m<module>\u001b[0;34m\u001b[0m\n\u001b[0;32m----> 1\u001b[0;31m \u001b[0mdf\u001b[0m\u001b[0;34m=\u001b[0m\u001b[0mdf2\u001b[0m\u001b[0;34m.\u001b[0m\u001b[0mto_excel\u001b[0m\u001b[0;34m(\u001b[0m\u001b[0;34m\"IBD_Gene_All_Final.xlsx\"\u001b[0m\u001b[0;34m,\u001b[0m \u001b[0mindex\u001b[0m \u001b[0;34m=\u001b[0m \u001b[0;32mTrue\u001b[0m\u001b[0;34m)\u001b[0m\u001b[0;34m\u001b[0m\u001b[0;34m\u001b[0m\u001b[0m\n\u001b[0m\u001b[1;32m      2\u001b[0m \u001b[0mprint\u001b[0m\u001b[0;34m(\u001b[0m\u001b[0mdf\u001b[0m\u001b[0;34m)\u001b[0m\u001b[0;34m\u001b[0m\u001b[0;34m\u001b[0m\u001b[0m\n",
      "\u001b[0;31mNameError\u001b[0m: name 'df2' is not defined"
     ]
    }
   ],
   "source": [
    "df=df2.to_excel(\"IBD_Gene_All_Final.xlsx\", index = True)\n",
    "print(df)"
   ]
  },
  {
   "cell_type": "code",
   "execution_count": 456,
   "id": "b5717d67",
   "metadata": {},
   "outputs": [
    {
     "data": {
      "text/plain": [
       "False    215\n",
       "True      13\n",
       "Name: IBD Gene, dtype: int64"
      ]
     },
     "execution_count": 456,
     "metadata": {},
     "output_type": "execute_result"
    }
   ],
   "source": [
    "a=df1['IBD Gene'].isin(df2['C44']).value_counts()\n",
    "a"
   ]
  },
  {
   "cell_type": "code",
   "execution_count": 457,
   "id": "babc62a9",
   "metadata": {},
   "outputs": [
    {
     "name": "stdout",
     "output_type": "stream",
     "text": [
      "['CYP2D6', 'ADRA2A', 'DRD1', 'ADRA1A', 'HTR2A', 'DRD2', 'ADRA1B']\n"
     ]
    }
   ],
   "source": [
    "list1_as_set = set(df1['IBD Gene'])\n",
    "intersection = list1_as_set.intersection(df2['C177'])\n",
    "\n",
    "intersection_as_list = list(intersection)\n",
    "\n",
    "print(intersection_as_list)"
   ]
  },
  {
   "cell_type": "code",
   "execution_count": 502,
   "id": "72fcfb37",
   "metadata": {},
   "outputs": [
    {
     "data": {
      "text/plain": [
       "4.672135481169906e-07"
      ]
     },
     "execution_count": 502,
     "metadata": {},
     "output_type": "execute_result"
    }
   ],
   "source": [
    "#fisher_test\n",
    "from scipy.stats import fisher_exact\n",
    "oddsratio, pvalue = fisher_exact([[6, 0], [221, 2324]])\n",
    "pvalue"
   ]
  },
  {
   "cell_type": "code",
   "execution_count": 506,
   "id": "6f1e0096",
   "metadata": {},
   "outputs": [
    {
     "data": {
      "text/plain": [
       "0.00011633531313168869"
      ]
     },
     "execution_count": 506,
     "metadata": {},
     "output_type": "execute_result"
    }
   ],
   "source": [
    "from scipy.stats import fisher_exact\n",
    "oddsratio, pvalue = fisher_exact([[10, 19], [218, 2305]])\n",
    "pvalue"
   ]
  },
  {
   "cell_type": "code",
   "execution_count": 505,
   "id": "abd16608",
   "metadata": {},
   "outputs": [
    {
     "data": {
      "text/plain": [
       "1.0"
      ]
     },
     "execution_count": 505,
     "metadata": {},
     "output_type": "execute_result"
    }
   ],
   "source": [
    "from scipy.stats import fisher_exact\n",
    "oddsratio, pvalue = fisher_exact([[1, 16], [227, 2308]])\n",
    "pvalue"
   ]
  },
  {
   "cell_type": "code",
   "execution_count": 4,
   "id": "eaf4804f",
   "metadata": {},
   "outputs": [
    {
     "name": "stdout",
     "output_type": "stream",
     "text": [
      "  Cluster  IBD_Cluster  Not IBD_Cluster  IBD_Not C  Not IBD_Not C  \\\n",
      "0    C208            9                0        219           2324   \n",
      "1     C90           16               14        212           2310   \n",
      "2     C44           13               15        215           2309   \n",
      "3    C109            7                1        221           2323   \n",
      "4    C177            7                1        221           2323   \n",
      "5    C183            7                1        221           2323   \n",
      "6     C94            9                5        219           2319   \n",
      "7     C31            8                3        220           2321   \n",
      "8    C146            6                0        222           2324   \n",
      "9     C67            9                6        219           2318   \n",
      "\n",
      "   Total IBD gene  Total (Cluster)  Total(Not_C)  Total Gene       P_Value  \\\n",
      "0             228                9          2543        2552  3.236012e-10   \n",
      "1             228               30          2522        2552  5.123254e-10   \n",
      "2             228               28          2524        2552  1.890599e-07   \n",
      "3             228                8          2544        2552  3.116261e-07   \n",
      "4             228                8          2544        2552  3.116261e-07   \n",
      "5             228                8          2544        2552  3.116261e-07   \n",
      "6             228               14          2538        2552  4.191137e-07   \n",
      "7             228               11          2541        2552  4.713669e-07   \n",
      "8             228                6          2546        2552  4.855284e-07   \n",
      "9             228               15          2537        2552  9.600598e-07   \n",
      "\n",
      "   Logarithm(P_value)  \n",
      "0            9.489990  \n",
      "1            9.290454  \n",
      "2            6.723401  \n",
      "3            6.506366  \n",
      "4            6.506366  \n",
      "5            6.506366  \n",
      "6            6.377668  \n",
      "7            6.326641  \n",
      "8            6.313785  \n",
      "9            6.017702  \n"
     ]
    }
   ],
   "source": [
    "#Histogram Plot\n",
    "df = pd.read_excel('/home/is/mostatika-a/Research/Final_Result_Fisher_test(Sorted).xlsx')\n",
    "print(df.head(10))"
   ]
  },
  {
   "cell_type": "code",
   "execution_count": 7,
   "id": "cdb84bab",
   "metadata": {},
   "outputs": [
    {
     "data": {
      "text/plain": [
       "array([[<AxesSubplot:title={'center':'Logarithm(P_value)'}>]],\n",
       "      dtype=object)"
      ]
     },
     "execution_count": 7,
     "metadata": {},
     "output_type": "execute_result"
    },
    {
     "data": {
      "image/png": "[encoded data removed]",
      "text/plain": [
       "<Figure size 432x288 with 1 Axes>"
      ]
     },
     "metadata": {
      "needs_background": "light"
     },
     "output_type": "display_data"
    }
   ],
   "source": [
    "import matplotlib.pyplot as plt\n",
    "df.hist(column='Logarithm(P_value)', bins=5, grid=False, rwidth=.5, color='green')"
   ]
  },
  {
   "cell_type": "code",
   "execution_count": 554,
   "id": "e7c47857",
   "metadata": {},
   "outputs": [
    {
     "data": {
      "image/png": "[encoded data removed]",
      "text/plain": [
       "<Figure size 432x288 with 1 Axes>"
      ]
     },
     "metadata": {
      "needs_background": "light"
     },
     "output_type": "display_data"
    }
   ],
   "source": [
    "plt.title('Histogram Plot')\n",
    "plt.xlabel('Cluster')\n",
    "plt.ylabel('Frequency')\n",
    "plt.hist(df['Logarithm(P_value)'], bins=30,alpha=.5,color='purple' )\n",
    "plt.hist(df['Cluster'], bins=[0,.25,.5,.5], alpha=.5,  orientation='horizontal',color='White')\n",
    "plt.show()"
   ]
  },
  {
   "cell_type": "code",
   "execution_count": 23,
   "id": "e80af1d0",
   "metadata": {},
   "outputs": [
    {
     "name": "stdout",
     "output_type": "stream",
     "text": [
      "      Drug    Gene Unique_Gene                                 Gene_names  \\\n",
      "0  DB00357  P05108      P05108                             CYP11A1 CYP11A   \n",
      "1  DB02721  P00325      P00325                                 ADH1B ADH2   \n",
      "2  DB00773  P23219      P23219                                 PTGS1 COX1   \n",
      "3  DB07138  Q16539      Q16539  MAPK14 CSBP CSBP1 CSBP2 CSPB1 MXI2 SAPK2A   \n",
      "4  DB08136  P24941      P24941                                 CDK2 CDKN2   \n",
      "5  DB01242  P23975      P23975                    SLC6A2 NAT1 NET1 SLC6A5   \n",
      "6  DB01238  P08173      P08173                                      CHRM4   \n",
      "7  DB00186  P48169      P48169                                     GABRA4   \n",
      "8  DB00338  P10635      P10635                             CYP2D6 CYP2DL1   \n",
      "9  DB01151  P08913      P08913                        ADRA2A ADRA2R ADRAR   \n",
      "\n",
      "   Length   IBD_Gene Common_IBD_Gene Com_Gene_ID  \n",
      "0   521.0  LINC00484           NFKB1      P10632  \n",
      "1   375.0    RPSAP35             ABO      P04798  \n",
      "2   599.0   TAB2-AS1             FYN      O43526  \n",
      "3   360.0  LINC02128            APRT      P20815  \n",
      "4   298.0      DUPD1            GAMT      P49789  \n",
      "5   617.0  EEF1AKMT2           ICAM1      P35368  \n",
      "6   479.0     LRRC8D            GMPS      P00749  \n",
      "7   554.0     SMIM25           YWHAE      P00734  \n",
      "8   497.0      IBD21             C1S      P29475  \n",
      "9   465.0       WBP4          CHRNB2      P29474  \n",
      "    IBD Gene\n",
      "0  LINC00484\n",
      "1    RPSAP35\n",
      "2   TAB2-AS1\n",
      "3  LINC02128\n",
      "4      DUPD1\n",
      "5  EEF1AKMT2\n",
      "6     LRRC8D\n",
      "7     SMIM25\n",
      "8      IBD21\n",
      "9       WBP4\n"
     ]
    }
   ],
   "source": [
    "df1 = pd.read_excel('/home/is/mostatika-a/Research/Drug_Gene.xlsx')\n",
    "print(df1.head(10)) \n",
    "df2 = pd.read_excel('/home/is/mostatika-a/Research/IBD_Gene.xlsx')\n",
    "print(df2.head(10))"
   ]
  },
  {
   "cell_type": "code",
   "execution_count": 4,
   "id": "15a6963f",
   "metadata": {},
   "outputs": [
    {
     "name": "stdout",
     "output_type": "stream",
     "text": [
      "      Drug    Gene Unique_Gene                                 Gene_names  \\\n",
      "0  DB00357  P05108      P05108                             CYP11A1 CYP11A   \n",
      "1  DB02721  P00325      P00325                                 ADH1B ADH2   \n",
      "2  DB00773  P23219      P23219                                 PTGS1 COX1   \n",
      "3  DB07138  Q16539      Q16539  MAPK14 CSBP CSBP1 CSBP2 CSPB1 MXI2 SAPK2A   \n",
      "4  DB08136  P24941      P24941                                 CDK2 CDKN2   \n",
      "5  DB01242  P23975      P23975                    SLC6A2 NAT1 NET1 SLC6A5   \n",
      "6  DB01238  P08173      P08173                                      CHRM4   \n",
      "7  DB00186  P48169      P48169                                     GABRA4   \n",
      "8  DB00338  P10635      P10635                             CYP2D6 CYP2DL1   \n",
      "9  DB01151  P08913      P08913                        ADRA2A ADRA2R ADRAR   \n",
      "\n",
      "   Length   IBD_Gene Common_IBD_Gene Com_Gene_ID_x Com_Gene_ID_y   0  \n",
      "0   521.0  LINC00484           NFKB1        P10632           NaN NaN  \n",
      "1   375.0    RPSAP35             ABO        P04798           NaN NaN  \n",
      "2   599.0   TAB2-AS1             FYN        O43526           NaN NaN  \n",
      "3   360.0  LINC02128            APRT        P20815           NaN NaN  \n",
      "4   298.0      DUPD1            GAMT        P49789           NaN NaN  \n",
      "5   617.0  EEF1AKMT2           ICAM1        P35368           NaN NaN  \n",
      "6   479.0     LRRC8D            GMPS        P00749           NaN NaN  \n",
      "7   554.0     SMIM25           YWHAE        P00734           NaN NaN  \n",
      "8   497.0      IBD21             C1S        P29475           NaN NaN  \n",
      "9   465.0       WBP4          CHRNB2        P29474           NaN NaN  \n",
      "      Drug    Gene Unique_Gene                                 Gene_names  \\\n",
      "0  DB00357  P05108      P05108                             CYP11A1 CYP11A   \n",
      "1  DB02721  P00325      P00325                                 ADH1B ADH2   \n",
      "2  DB00773  P23219      P23219                                 PTGS1 COX1   \n",
      "3  DB07138  Q16539      Q16539  MAPK14 CSBP CSBP1 CSBP2 CSPB1 MXI2 SAPK2A   \n",
      "4  DB08136  P24941      P24941                                 CDK2 CDKN2   \n",
      "5  DB01242  P23975      P23975                    SLC6A2 NAT1 NET1 SLC6A5   \n",
      "6  DB01238  P08173      P08173                                      CHRM4   \n",
      "7  DB00186  P48169      P48169                                     GABRA4   \n",
      "8  DB00338  P10635      P10635                             CYP2D6 CYP2DL1   \n",
      "9  DB01151  P08913      P08913                        ADRA2A ADRA2R ADRAR   \n",
      "\n",
      "   Length   IBD_Gene Common_IBD_Gene Com_Gene_ID Com_Gene_ID_y   0  \n",
      "0   521.0  LINC00484           NFKB1      P10632           NaN NaN  \n",
      "1   375.0    RPSAP35             ABO      P04798           NaN NaN  \n",
      "2   599.0   TAB2-AS1             FYN      O43526           NaN NaN  \n",
      "3   360.0  LINC02128            APRT      P20815           NaN NaN  \n",
      "4   298.0      DUPD1            GAMT      P49789           NaN NaN  \n",
      "5   617.0  EEF1AKMT2           ICAM1      P35368           NaN NaN  \n",
      "6   479.0     LRRC8D            GMPS      P00749           NaN NaN  \n",
      "7   554.0     SMIM25           YWHAE      P00734           NaN NaN  \n",
      "8   497.0      IBD21             C1S      P29475           NaN NaN  \n",
      "9   465.0       WBP4          CHRNB2      P29474           NaN NaN  \n"
     ]
    }
   ],
   "source": [
    "#Common Value with link another column\n",
    "df1 = pd.read_excel('/home/is/mostatika-a/Research/Drug_Gene.xlsx')\n",
    "#print(df1.head(10)) \n",
    "counts = df1.groupby('Com_Gene_ID').size().reset_index()\n",
    "a=df1.merge(counts, how='left', left_on='Gene', right_on='Com_Gene_ID')\n",
    "print(a.head(10))\n",
    "\n",
    "\n",
    "counts = a.groupby('Com_Gene_ID_y').size().reset_index()\n",
    "b=df1.merge(counts, how='left', left_on='Gene', right_on='Com_Gene_ID_y')\n",
    "print(b.head(10))\n",
    "b.to_excel('/home/is/mostatika-a/Research/D.xlsx')"
   ]
  },
  {
   "cell_type": "code",
   "execution_count": 7,
   "id": "5fc3ca06",
   "metadata": {},
   "outputs": [
    {
     "data": {
      "text/html": [
       "<div>\n",
       "<style scoped>\n",
       "    .dataframe tbody tr th:only-of-type {\n",
       "        vertical-align: middle;\n",
       "    }\n",
       "\n",
       "    .dataframe tbody tr th {\n",
       "        vertical-align: top;\n",
       "    }\n",
       "\n",
       "    .dataframe thead th {\n",
       "        text-align: right;\n",
       "    }\n",
       "</style>\n",
       "<table border=\"1\" class=\"dataframe\">\n",
       "  <thead>\n",
       "    <tr style=\"text-align: right;\">\n",
       "      <th>Gene</th>\n",
       "      <th>A5X5Y0</th>\n",
       "      <th>A8MPY1</th>\n",
       "      <th>Gene</th>\n",
       "      <th>O00141</th>\n",
       "      <th>O00142</th>\n",
       "      <th>O00180</th>\n",
       "      <th>O00187</th>\n",
       "      <th>O00204</th>\n",
       "      <th>O00206</th>\n",
       "      <th>O00244</th>\n",
       "      <th>...</th>\n",
       "      <th>Q9Y617</th>\n",
       "      <th>Q9Y663</th>\n",
       "      <th>Q9Y691</th>\n",
       "      <th>Q9Y697</th>\n",
       "      <th>Q9Y6F1</th>\n",
       "      <th>Q9Y6I3</th>\n",
       "      <th>Q9Y6K9</th>\n",
       "      <th>Q9Y6L6</th>\n",
       "      <th>Q9Y6M4</th>\n",
       "      <th>Q9Y6Y9</th>\n",
       "    </tr>\n",
       "    <tr>\n",
       "      <th>Drug</th>\n",
       "      <th></th>\n",
       "      <th></th>\n",
       "      <th></th>\n",
       "      <th></th>\n",
       "      <th></th>\n",
       "      <th></th>\n",
       "      <th></th>\n",
       "      <th></th>\n",
       "      <th></th>\n",
       "      <th></th>\n",
       "      <th></th>\n",
       "      <th></th>\n",
       "      <th></th>\n",
       "      <th></th>\n",
       "      <th></th>\n",
       "      <th></th>\n",
       "      <th></th>\n",
       "      <th></th>\n",
       "      <th></th>\n",
       "      <th></th>\n",
       "      <th></th>\n",
       "    </tr>\n",
       "  </thead>\n",
       "  <tbody>\n",
       "    <tr>\n",
       "      <th>#Drug</th>\n",
       "      <td>0</td>\n",
       "      <td>0</td>\n",
       "      <td>1</td>\n",
       "      <td>0</td>\n",
       "      <td>0</td>\n",
       "      <td>0</td>\n",
       "      <td>0</td>\n",
       "      <td>0</td>\n",
       "      <td>0</td>\n",
       "      <td>0</td>\n",
       "      <td>...</td>\n",
       "      <td>0</td>\n",
       "      <td>0</td>\n",
       "      <td>0</td>\n",
       "      <td>0</td>\n",
       "      <td>0</td>\n",
       "      <td>0</td>\n",
       "      <td>0</td>\n",
       "      <td>0</td>\n",
       "      <td>0</td>\n",
       "      <td>0</td>\n",
       "    </tr>\n",
       "    <tr>\n",
       "      <th>DB00001</th>\n",
       "      <td>0</td>\n",
       "      <td>0</td>\n",
       "      <td>0</td>\n",
       "      <td>0</td>\n",
       "      <td>0</td>\n",
       "      <td>0</td>\n",
       "      <td>0</td>\n",
       "      <td>0</td>\n",
       "      <td>0</td>\n",
       "      <td>0</td>\n",
       "      <td>...</td>\n",
       "      <td>0</td>\n",
       "      <td>0</td>\n",
       "      <td>0</td>\n",
       "      <td>0</td>\n",
       "      <td>0</td>\n",
       "      <td>0</td>\n",
       "      <td>0</td>\n",
       "      <td>0</td>\n",
       "      <td>0</td>\n",
       "      <td>0</td>\n",
       "    </tr>\n",
       "    <tr>\n",
       "      <th>DB00002</th>\n",
       "      <td>0</td>\n",
       "      <td>0</td>\n",
       "      <td>0</td>\n",
       "      <td>0</td>\n",
       "      <td>0</td>\n",
       "      <td>0</td>\n",
       "      <td>0</td>\n",
       "      <td>0</td>\n",
       "      <td>0</td>\n",
       "      <td>0</td>\n",
       "      <td>...</td>\n",
       "      <td>0</td>\n",
       "      <td>0</td>\n",
       "      <td>0</td>\n",
       "      <td>0</td>\n",
       "      <td>0</td>\n",
       "      <td>0</td>\n",
       "      <td>0</td>\n",
       "      <td>0</td>\n",
       "      <td>0</td>\n",
       "      <td>0</td>\n",
       "    </tr>\n",
       "    <tr>\n",
       "      <th>DB00004</th>\n",
       "      <td>0</td>\n",
       "      <td>0</td>\n",
       "      <td>0</td>\n",
       "      <td>0</td>\n",
       "      <td>0</td>\n",
       "      <td>0</td>\n",
       "      <td>0</td>\n",
       "      <td>0</td>\n",
       "      <td>0</td>\n",
       "      <td>0</td>\n",
       "      <td>...</td>\n",
       "      <td>0</td>\n",
       "      <td>0</td>\n",
       "      <td>0</td>\n",
       "      <td>0</td>\n",
       "      <td>0</td>\n",
       "      <td>0</td>\n",
       "      <td>0</td>\n",
       "      <td>0</td>\n",
       "      <td>0</td>\n",
       "      <td>0</td>\n",
       "    </tr>\n",
       "    <tr>\n",
       "      <th>DB00005</th>\n",
       "      <td>0</td>\n",
       "      <td>0</td>\n",
       "      <td>0</td>\n",
       "      <td>0</td>\n",
       "      <td>0</td>\n",
       "      <td>0</td>\n",
       "      <td>0</td>\n",
       "      <td>0</td>\n",
       "      <td>0</td>\n",
       "      <td>0</td>\n",
       "      <td>...</td>\n",
       "      <td>0</td>\n",
       "      <td>0</td>\n",
       "      <td>0</td>\n",
       "      <td>0</td>\n",
       "      <td>0</td>\n",
       "      <td>0</td>\n",
       "      <td>0</td>\n",
       "      <td>0</td>\n",
       "      <td>0</td>\n",
       "      <td>0</td>\n",
       "    </tr>\n",
       "    <tr>\n",
       "      <th>...</th>\n",
       "      <td>...</td>\n",
       "      <td>...</td>\n",
       "      <td>...</td>\n",
       "      <td>...</td>\n",
       "      <td>...</td>\n",
       "      <td>...</td>\n",
       "      <td>...</td>\n",
       "      <td>...</td>\n",
       "      <td>...</td>\n",
       "      <td>...</td>\n",
       "      <td>...</td>\n",
       "      <td>...</td>\n",
       "      <td>...</td>\n",
       "      <td>...</td>\n",
       "      <td>...</td>\n",
       "      <td>...</td>\n",
       "      <td>...</td>\n",
       "      <td>...</td>\n",
       "      <td>...</td>\n",
       "      <td>...</td>\n",
       "      <td>...</td>\n",
       "    </tr>\n",
       "    <tr>\n",
       "      <th>DB09330</th>\n",
       "      <td>0</td>\n",
       "      <td>0</td>\n",
       "      <td>0</td>\n",
       "      <td>0</td>\n",
       "      <td>0</td>\n",
       "      <td>0</td>\n",
       "      <td>0</td>\n",
       "      <td>0</td>\n",
       "      <td>0</td>\n",
       "      <td>0</td>\n",
       "      <td>...</td>\n",
       "      <td>0</td>\n",
       "      <td>0</td>\n",
       "      <td>0</td>\n",
       "      <td>0</td>\n",
       "      <td>0</td>\n",
       "      <td>0</td>\n",
       "      <td>0</td>\n",
       "      <td>0</td>\n",
       "      <td>0</td>\n",
       "      <td>0</td>\n",
       "    </tr>\n",
       "    <tr>\n",
       "      <th>DB09559</th>\n",
       "      <td>0</td>\n",
       "      <td>0</td>\n",
       "      <td>0</td>\n",
       "      <td>0</td>\n",
       "      <td>0</td>\n",
       "      <td>0</td>\n",
       "      <td>0</td>\n",
       "      <td>0</td>\n",
       "      <td>0</td>\n",
       "      <td>0</td>\n",
       "      <td>...</td>\n",
       "      <td>0</td>\n",
       "      <td>0</td>\n",
       "      <td>0</td>\n",
       "      <td>0</td>\n",
       "      <td>0</td>\n",
       "      <td>0</td>\n",
       "      <td>0</td>\n",
       "      <td>0</td>\n",
       "      <td>0</td>\n",
       "      <td>0</td>\n",
       "    </tr>\n",
       "    <tr>\n",
       "      <th>DB09570</th>\n",
       "      <td>0</td>\n",
       "      <td>0</td>\n",
       "      <td>0</td>\n",
       "      <td>0</td>\n",
       "      <td>0</td>\n",
       "      <td>0</td>\n",
       "      <td>0</td>\n",
       "      <td>0</td>\n",
       "      <td>0</td>\n",
       "      <td>0</td>\n",
       "      <td>...</td>\n",
       "      <td>0</td>\n",
       "      <td>0</td>\n",
       "      <td>0</td>\n",
       "      <td>0</td>\n",
       "      <td>0</td>\n",
       "      <td>0</td>\n",
       "      <td>0</td>\n",
       "      <td>0</td>\n",
       "      <td>0</td>\n",
       "      <td>0</td>\n",
       "    </tr>\n",
       "    <tr>\n",
       "      <th>DB11362</th>\n",
       "      <td>0</td>\n",
       "      <td>0</td>\n",
       "      <td>0</td>\n",
       "      <td>0</td>\n",
       "      <td>0</td>\n",
       "      <td>0</td>\n",
       "      <td>0</td>\n",
       "      <td>0</td>\n",
       "      <td>0</td>\n",
       "      <td>0</td>\n",
       "      <td>...</td>\n",
       "      <td>0</td>\n",
       "      <td>0</td>\n",
       "      <td>0</td>\n",
       "      <td>0</td>\n",
       "      <td>0</td>\n",
       "      <td>0</td>\n",
       "      <td>0</td>\n",
       "      <td>0</td>\n",
       "      <td>0</td>\n",
       "      <td>0</td>\n",
       "    </tr>\n",
       "    <tr>\n",
       "      <th>DB11363</th>\n",
       "      <td>0</td>\n",
       "      <td>0</td>\n",
       "      <td>0</td>\n",
       "      <td>0</td>\n",
       "      <td>0</td>\n",
       "      <td>0</td>\n",
       "      <td>0</td>\n",
       "      <td>0</td>\n",
       "      <td>0</td>\n",
       "      <td>0</td>\n",
       "      <td>...</td>\n",
       "      <td>0</td>\n",
       "      <td>0</td>\n",
       "      <td>0</td>\n",
       "      <td>0</td>\n",
       "      <td>0</td>\n",
       "      <td>0</td>\n",
       "      <td>0</td>\n",
       "      <td>0</td>\n",
       "      <td>0</td>\n",
       "      <td>0</td>\n",
       "    </tr>\n",
       "  </tbody>\n",
       "</table>\n",
       "<p>4900 rows × 1437 columns</p>\n",
       "</div>"
      ],
      "text/plain": [
       "Gene     A5X5Y0  A8MPY1  Gene  O00141  O00142  O00180  O00187  O00204  O00206  \\\n",
       "Drug                                                                            \n",
       "#Drug         0       0     1       0       0       0       0       0       0   \n",
       "DB00001       0       0     0       0       0       0       0       0       0   \n",
       "DB00002       0       0     0       0       0       0       0       0       0   \n",
       "DB00004       0       0     0       0       0       0       0       0       0   \n",
       "DB00005       0       0     0       0       0       0       0       0       0   \n",
       "...         ...     ...   ...     ...     ...     ...     ...     ...     ...   \n",
       "DB09330       0       0     0       0       0       0       0       0       0   \n",
       "DB09559       0       0     0       0       0       0       0       0       0   \n",
       "DB09570       0       0     0       0       0       0       0       0       0   \n",
       "DB11362       0       0     0       0       0       0       0       0       0   \n",
       "DB11363       0       0     0       0       0       0       0       0       0   \n",
       "\n",
       "Gene     O00244  ...  Q9Y617  Q9Y663  Q9Y691  Q9Y697  Q9Y6F1  Q9Y6I3  Q9Y6K9  \\\n",
       "Drug             ...                                                           \n",
       "#Drug         0  ...       0       0       0       0       0       0       0   \n",
       "DB00001       0  ...       0       0       0       0       0       0       0   \n",
       "DB00002       0  ...       0       0       0       0       0       0       0   \n",
       "DB00004       0  ...       0       0       0       0       0       0       0   \n",
       "DB00005       0  ...       0       0       0       0       0       0       0   \n",
       "...         ...  ...     ...     ...     ...     ...     ...     ...     ...   \n",
       "DB09330       0  ...       0       0       0       0       0       0       0   \n",
       "DB09559       0  ...       0       0       0       0       0       0       0   \n",
       "DB09570       0  ...       0       0       0       0       0       0       0   \n",
       "DB11362       0  ...       0       0       0       0       0       0       0   \n",
       "DB11363       0  ...       0       0       0       0       0       0       0   \n",
       "\n",
       "Gene     Q9Y6L6  Q9Y6M4  Q9Y6Y9  \n",
       "Drug                             \n",
       "#Drug         0       0       0  \n",
       "DB00001       0       0       0  \n",
       "DB00002       0       0       0  \n",
       "DB00004       0       0       0  \n",
       "DB00005       0       0       0  \n",
       "...         ...     ...     ...  \n",
       "DB09330       0       0       0  \n",
       "DB09559       0       0       0  \n",
       "DB09570       0       0       0  \n",
       "DB11362       0       0       0  \n",
       "DB11363       0       0       0  \n",
       "\n",
       "[4900 rows x 1437 columns]"
      ]
     },
     "execution_count": 7,
     "metadata": {},
     "output_type": "execute_result"
    }
   ],
   "source": [
    "df1 = pd.crosstab(df1.Drug,df1.Gene)\n",
    "df1"
   ]
  },
  {
   "cell_type": "code",
   "execution_count": 8,
   "id": "c6613d65",
   "metadata": {},
   "outputs": [],
   "source": [
    "df1.to_excel('/home/is/mostatika-a/Research/Drug_IBD_Adja.xlsx')"
   ]
  },
  {
   "cell_type": "code",
   "execution_count": 62,
   "id": "c2e77913",
   "metadata": {},
   "outputs": [
    {
     "name": "stdout",
     "output_type": "stream",
     "text": [
      "  Common_IBD_Gene  Count\n",
      "0          P10632    185\n",
      "1          P20815    179\n",
      "2          P00734    102\n",
      "3          P04798     96\n",
      "4          P00918     95\n",
      "5          P14416     91\n",
      "6          P20309     67\n",
      "7          P35368     65\n",
      "8          P22303     56\n",
      "9          P21728     53\n"
     ]
    }
   ],
   "source": [
    "df1 = pd.read_excel('/home/is/mostatika-a/Research/Attachment_Degree.xlsx')\n",
    "print(df1.head(10)) "
   ]
  },
  {
   "cell_type": "code",
   "execution_count": 68,
   "id": "97f938e2",
   "metadata": {},
   "outputs": [
    {
     "data": {
      "image/png": "[encoded data removed]",
      "text/plain": [
       "<Figure size 432x288 with 1 Axes>"
      ]
     },
     "metadata": {
      "needs_background": "light"
     },
     "output_type": "display_data"
    }
   ],
   "source": [
    "plt.title('Histogram Plot')\n",
    "plt.xlabel('Common_IBD_Gene')\n",
    "plt.ylabel('Frequency')\n",
    "plt.hist(df1['Count'], bins=30,alpha=.5,color='purple' )\n",
    "plt.hist(df1['Common_IBD_Gene'], bins=[0,.25,.5,.5], alpha=.5,  orientation='horizontal',color='White')\n",
    "plt.show()"
   ]
  },
  {
   "cell_type": "code",
   "execution_count": null,
   "id": "83675c71",
   "metadata": {},
   "outputs": [],
   "source": []
  },
  {
   "cell_type": "code",
   "execution_count": null,
   "id": "39bf1016",
   "metadata": {},
   "outputs": [],
   "source": []
  }
 ],
 "metadata": {
  "kernelspec": {
   "display_name": "Python 3",
   "language": "python",
   "name": "python3"
  },
  "language_info": {
   "codemirror_mode": {
    "name": "ipython",
    "version": 3
   },
   "file_extension": ".py",
   "mimetype": "text/x-python",
   "name": "python",
   "nbconvert_exporter": "python",
   "pygments_lexer": "ipython3",
   "version": "3.8.8"
  }
 },
 "nbformat": 4,
 "nbformat_minor": 5
}
