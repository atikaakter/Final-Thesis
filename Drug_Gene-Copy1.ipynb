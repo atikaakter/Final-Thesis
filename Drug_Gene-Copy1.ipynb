{
 "cells": [
  {
   "cell_type": "code",
   "execution_count": 19,
   "id": "b554aa09",
   "metadata": {},
   "outputs": [
    {
     "name": "stderr",
     "output_type": "stream",
     "text": [
      "RDKit WARNING: [05:32:18] Enabling RDKit 2019.09.3 jupyter extensions\n"
     ]
    }
   ],
   "source": [
    "import numpy as np\n",
    "import pandas as pd\n",
    "import os\n",
    "import seaborn as sns\n",
    "import matplotlib as mpl\n",
    "import matplotlib.pyplot as plt\n",
    "\n",
    "from rdkit import Chem\n",
    "from rdkit import DataStructs\n",
    "from rdkit import rdBase\n",
    "from rdkit import RDConfig\n",
    "from rdkit.Chem import ChemicalFeatures\n",
    "from rdkit.Chem import AllChem\n",
    "from rdkit.Chem import Draw\n",
    "from rdkit.Chem.Draw import IPythonConsole\n",
    "from rdkit.Chem.rdMolDescriptors import GetMorganFingerprint\n",
    "from rdkit.Chem.Draw import SimilarityMaps\n",
    "from rdkit.SimDivFilters.rdSimDivPickers import MaxMinPicker\n",
    "from rdkit.Chem.Pharm2D import Gobbi_Pharm2D,Generate\n",
    "from rdkit.Chem import rdMolDescriptors as rdescriptors\n",
    "from rdkit.Chem import Descriptors\n",
    "\n",
    "from sklearn import model_selection\n",
    "from sklearn import linear_model\n",
    "from sklearn.ensemble import RandomForestRegressor\n",
    "from sklearn.ensemble import RandomForestClassifier\n",
    "from sklearn import metrics\n",
    "from sklearn.metrics import *\n",
    "from sklearn.preprocessing import LabelEncoder,label_binarize\n",
    "from sklearn.linear_model import LogisticRegression\n",
    "from sklearn.preprocessing import StandardScaler\n",
    "from sklearn.neural_network import MLPRegressor\n",
    "from sklearn.svm import SVR\n",
    "import pandas as pd\n",
    "import numpy as np\n",
    "from numpy import vectorize as vec\n",
    "import scipy as sp\n",
    "import sklearn\n",
    "from sklearn.model_selection import train_test_split\n",
    "import matplotlib\n",
    "import matplotlib.pyplot as plt\n",
    "%matplotlib inline\n",
    "import seaborn as sns"
   ]
  },
  {
   "cell_type": "code",
   "execution_count": 9,
   "id": "e0b1c4f6",
   "metadata": {},
   "outputs": [],
   "source": [
    "#df = pd.read_excel('/home/is/mostatika-a/miRNA and Drug (mir2disease).xlsx')\n",
    "#print(df.head(10))"
   ]
  },
  {
   "cell_type": "code",
   "execution_count": 20,
   "id": "905f3c85",
   "metadata": {},
   "outputs": [
    {
     "name": "stdout",
     "output_type": "stream",
     "text": [
      "      Drug    Gene\n",
      "0  DB00357  P05108\n",
      "1  DB02721  P00325\n",
      "2  DB00773  P23219\n",
      "3  DB07138  Q16539\n",
      "4  DB08136  P24941\n",
      "5  DB01242  P23975\n",
      "6  DB01238  P08173\n",
      "7  DB00186  P48169\n",
      "8  DB00338  P10635\n",
      "9  DB01151  P08913\n"
     ]
    }
   ],
   "source": [
    "df = pd.read_excel('/home/is/mostatika-a/DrugBank_Update(BioSNAP).xlsx')\n",
    "print(df.head(10))"
   ]
  },
  {
   "cell_type": "code",
   "execution_count": 21,
   "id": "1ec24045",
   "metadata": {},
   "outputs": [
    {
     "name": "stdout",
     "output_type": "stream",
     "text": [
      "Drug    #Drug  DB00001  DB00002  DB00004  DB00005  DB00006  DB00007  DB00008  \\\n",
      "Gene                                                                           \n",
      "A5X5Y0      0        0        0        0        0        0        0        0   \n",
      "A8MPY1      0        0        0        0        0        0        0        0   \n",
      "Gene        1        0        0        0        0        0        0        0   \n",
      "O00141      0        0        0        0        0        0        0        0   \n",
      "O00142      0        0        0        0        0        0        0        0   \n",
      "...       ...      ...      ...      ...      ...      ...      ...      ...   \n",
      "Q9Y6L6      0        0        0        0        0        0        0        0   \n",
      "Q9Y6L7      0        0        0        0        0        0        0        0   \n",
      "Q9Y6M4      0        0        0        0        0        0        0        0   \n",
      "Q9Y6M9      0        0        0        0        0        0        0        0   \n",
      "Q9Y6Y9      0        0        0        0        0        0        0        0   \n",
      "\n",
      "Drug    DB00009  DB00010  ...  DB09280  DB09291  DB09292  DB09302  DB09303  \\\n",
      "Gene                      ...                                                \n",
      "A5X5Y0        0        0  ...        0        0        0        0        0   \n",
      "A8MPY1        0        0  ...        0        0        0        0        0   \n",
      "Gene          0        0  ...        0        0        0        0        0   \n",
      "O00141        0        0  ...        0        0        0        0        0   \n",
      "O00142        0        0  ...        0        0        0        0        0   \n",
      "...         ...      ...  ...      ...      ...      ...      ...      ...   \n",
      "Q9Y6L6        0        0  ...        0        0        0        0        0   \n",
      "Q9Y6L7        0        0  ...        0        0        0        0        0   \n",
      "Q9Y6M4        0        0  ...        0        0        0        0        0   \n",
      "Q9Y6M9        0        0  ...        0        0        0        0        0   \n",
      "Q9Y6Y9        0        0  ...        0        0        0        0        0   \n",
      "\n",
      "Drug    DB09330  DB09559  DB09570  DB11362  DB11363  \n",
      "Gene                                                 \n",
      "A5X5Y0        0        0        0        0        0  \n",
      "A8MPY1        0        0        0        0        0  \n",
      "Gene          0        0        0        0        0  \n",
      "O00141        0        0        0        0        0  \n",
      "O00142        0        0        0        0        0  \n",
      "...         ...      ...      ...      ...      ...  \n",
      "Q9Y6L6        0        0        0        0        0  \n",
      "Q9Y6L7        0        0        0        0        0  \n",
      "Q9Y6M4        0        0        0        0        0  \n",
      "Q9Y6M9        0        0        0        0        0  \n",
      "Q9Y6Y9        0        0        0        0        0  \n",
      "\n",
      "[2325 rows x 5018 columns]\n"
     ]
    }
   ],
   "source": [
    "df = pd.crosstab(df.Gene,df.Drug)\n",
    "print (df)\n"
   ]
  },
  {
   "cell_type": "code",
   "execution_count": 13,
   "id": "6ae8a10d",
   "metadata": {},
   "outputs": [],
   "source": [
    "df.to_excel('/home/is/mostatika-a/result.xlsx')"
   ]
  },
  {
   "cell_type": "code",
   "execution_count": 22,
   "id": "a377151f",
   "metadata": {},
   "outputs": [
    {
     "ename": "NameError",
     "evalue": "name 'Drug' is not defined",
     "output_type": "error",
     "traceback": [
      "\u001b[0;31m---------------------------------------------------------------------------\u001b[0m",
      "\u001b[0;31mNameError\u001b[0m                                 Traceback (most recent call last)",
      "\u001b[0;32m<ipython-input-22-766fcf70d032>\u001b[0m in \u001b[0;36m<module>\u001b[0;34m\u001b[0m\n\u001b[0;32m----> 1\u001b[0;31m \u001b[0mX_train\u001b[0m\u001b[0;34m,\u001b[0m \u001b[0mX_test\u001b[0m\u001b[0;34m,\u001b[0m \u001b[0my_train\u001b[0m\u001b[0;34m,\u001b[0m \u001b[0my_test\u001b[0m \u001b[0;34m=\u001b[0m \u001b[0mmodel_selection\u001b[0m\u001b[0;34m.\u001b[0m\u001b[0mtrain_test_split\u001b[0m\u001b[0;34m(\u001b[0m\u001b[0mDrug\u001b[0m\u001b[0;34m,\u001b[0m \u001b[0mGene\u001b[0m\u001b[0;34m,\u001b[0m \u001b[0mtest_size\u001b[0m\u001b[0;34m=\u001b[0m \u001b[0mTest_Size\u001b[0m\u001b[0;34m)\u001b[0m\u001b[0;34m\u001b[0m\u001b[0;34m\u001b[0m\u001b[0m\n\u001b[0m\u001b[1;32m      2\u001b[0m \u001b[0mprint\u001b[0m\u001b[0;34m(\u001b[0m\u001b[0;34m'0:'\u001b[0m\u001b[0;34m,\u001b[0m\u001b[0mlist\u001b[0m\u001b[0;34m(\u001b[0m\u001b[0my_train\u001b[0m\u001b[0;34m)\u001b[0m\u001b[0;34m.\u001b[0m\u001b[0mcount\u001b[0m\u001b[0;34m(\u001b[0m\u001b[0;36m0\u001b[0m\u001b[0;34m)\u001b[0m\u001b[0;34m,\u001b[0m\u001b[0mlist\u001b[0m\u001b[0;34m(\u001b[0m\u001b[0my_test\u001b[0m\u001b[0;34m)\u001b[0m\u001b[0;34m.\u001b[0m\u001b[0mcount\u001b[0m\u001b[0;34m(\u001b[0m\u001b[0;36m0\u001b[0m\u001b[0;34m)\u001b[0m\u001b[0;34m)\u001b[0m\u001b[0;34m\u001b[0m\u001b[0;34m\u001b[0m\u001b[0m\n\u001b[1;32m      3\u001b[0m \u001b[0mprint\u001b[0m\u001b[0;34m(\u001b[0m\u001b[0;34m'1:'\u001b[0m\u001b[0;34m,\u001b[0m\u001b[0mlist\u001b[0m\u001b[0;34m(\u001b[0m\u001b[0my_train\u001b[0m\u001b[0;34m)\u001b[0m\u001b[0;34m.\u001b[0m\u001b[0mcount\u001b[0m\u001b[0;34m(\u001b[0m\u001b[0;36m1\u001b[0m\u001b[0;34m)\u001b[0m\u001b[0;34m,\u001b[0m\u001b[0mlist\u001b[0m\u001b[0;34m(\u001b[0m\u001b[0my_test\u001b[0m\u001b[0;34m)\u001b[0m\u001b[0;34m.\u001b[0m\u001b[0mcount\u001b[0m\u001b[0;34m(\u001b[0m\u001b[0;36m1\u001b[0m\u001b[0;34m)\u001b[0m\u001b[0;34m)\u001b[0m\u001b[0;34m\u001b[0m\u001b[0;34m\u001b[0m\u001b[0m\n",
      "\u001b[0;31mNameError\u001b[0m: name 'Drug' is not defined"
     ]
    }
   ],
   "source": [
    "X_train, X_test, y_train, y_test = model_selection.train_test_split(Drug, Gene, test_size= Test_Size)\n",
    "print('0:',list(y_train).count(0),list(y_test).count(0))\n",
    "print('1:',list(y_train).count(1),list(y_test).count(1))"
   ]
  },
  {
   "cell_type": "code",
   "execution_count": null,
   "id": "bd7eaf9b",
   "metadata": {},
   "outputs": [],
   "source": []
  }
 ],
 "metadata": {
  "kernelspec": {
   "display_name": "Python 3",
   "language": "python",
   "name": "python3"
  },
  "language_info": {
   "codemirror_mode": {
    "name": "ipython",
    "version": 3
   },
   "file_extension": ".py",
   "mimetype": "text/x-python",
   "name": "python",
   "nbconvert_exporter": "python",
   "pygments_lexer": "ipython3",
   "version": "3.8.8"
  }
 },
 "nbformat": 4,
 "nbformat_minor": 5
}
