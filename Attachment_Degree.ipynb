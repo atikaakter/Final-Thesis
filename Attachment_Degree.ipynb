{
 "cells": [
  {
   "cell_type": "code",
   "execution_count": 1,
   "id": "5ecdf259",
   "metadata": {},
   "outputs": [],
   "source": [
    "import numpy as np\n",
    "import pandas as pd\n"
   ]
  },
  {
   "cell_type": "code",
   "execution_count": 6,
   "id": "6ad3f952",
   "metadata": {},
   "outputs": [
    {
     "name": "stdout",
     "output_type": "stream",
     "text": [
      "<bound method DataFrame.count of          Drug  A5X5Y0  A8MPY1  O00141  O00142  O00180  O00187  O00204  O00206  \\\n",
      "0     DB00157       0       0       0       0       0       0       0       0   \n",
      "1     DB00898       1       0       0       0       0       0       0       0   \n",
      "2     DB00334       0       0       0       0       0       0       0       0   \n",
      "3     DB00142       0       0       0       0       0       0       0       0   \n",
      "4     DB00543       0       0       0       0       0       0       0       0   \n",
      "...       ...     ...     ...     ...     ...     ...     ...     ...     ...   \n",
      "4894  DB09292       0       0       0       0       0       0       0       0   \n",
      "4895  DB09302       0       0       0       0       0       0       0       0   \n",
      "4896  DB09303       0       0       0       0       0       0       0       0   \n",
      "4897  DB09559       0       0       0       0       0       0       0       0   \n",
      "4898  DB11363       0       0       0       0       0       0       0       0   \n",
      "\n",
      "      O00244  ...  Q9Y663  Q9Y691  Q9Y697  Q9Y6F1  Q9Y6I3  Q9Y6K9  Q9Y6L6  \\\n",
      "0          0  ...       0       0       0       0       0       0       0   \n",
      "1          0  ...       0       0       0       0       0       0       0   \n",
      "2          0  ...       0       0       0       0       0       0       0   \n",
      "3          0  ...       0       0       0       0       0       0       0   \n",
      "4          0  ...       0       0       0       0       0       0       0   \n",
      "...      ...  ...     ...     ...     ...     ...     ...     ...     ...   \n",
      "4894       0  ...       0       0       0       0       0       0       0   \n",
      "4895       0  ...       0       0       0       0       0       0       0   \n",
      "4896       0  ...       0       0       0       0       0       0       0   \n",
      "4897       0  ...       0       0       0       0       0       0       0   \n",
      "4898       0  ...       0       0       0       0       0       0       0   \n",
      "\n",
      "      Q9Y6M4  Q9Y6Y9  Count  \n",
      "0          0       0     78  \n",
      "1          0       0     64  \n",
      "2          0       0     54  \n",
      "3          0       0     46  \n",
      "4          0       0     45  \n",
      "...      ...     ...    ...  \n",
      "4894       0       0      1  \n",
      "4895       0       0      1  \n",
      "4896       0       0      1  \n",
      "4897       0       0      1  \n",
      "4898       0       0      1  \n",
      "\n",
      "[4899 rows x 1438 columns]>\n"
     ]
    }
   ],
   "source": [
    "df = pd.read_excel('/home/is/mostatika-a/Research/Drug_IBD_Gene_Adjacency.xlsx')\n"
   ]
  },
  {
   "cell_type": "code",
   "execution_count": 12,
   "id": "7f00bc34",
   "metadata": {},
   "outputs": [
    {
     "name": "stdout",
     "output_type": "stream",
     "text": [
      "      Count\n",
      "0        78\n",
      "1        64\n",
      "2        54\n",
      "3        46\n",
      "4        45\n",
      "...     ...\n",
      "4894      1\n",
      "4895      1\n",
      "4896      1\n",
      "4897      1\n",
      "4898      1\n",
      "\n",
      "[4899 rows x 1 columns]\n",
      "<class 'pandas.core.frame.DataFrame'>\n"
     ]
    }
   ],
   "source": [
    "column = df[['Count']]\n",
    "print(column)\n",
    "print(type(column))\n",
    "column.to_excel('/home/is/mostatika-a/Research/Result.xlsx')"
   ]
  },
  {
   "cell_type": "code",
   "execution_count": 5,
   "id": "a3907fe3",
   "metadata": {},
   "outputs": [
    {
     "data": {
      "image/png": "[encoded data removed]",
      "text/plain": [
       "<Figure size 432x288 with 1 Axes>"
      ]
     },
     "metadata": {
      "needs_background": "light"
     },
     "output_type": "display_data"
    }
   ],
   "source": [
    "import matplotlib.pyplot as plt\n",
    "plt.title('Histogram Plot')\n",
    "plt.xlabel('Drug')\n",
    "plt.ylabel('Frequency')\n",
    "plt.hist(df['Count'], bins=30,alpha=.5,color='purple' )\n",
    "plt.hist(df['Drug'], bins=[0,.25,.5,.5], alpha=.5,  orientation='horizontal',color='White')\n",
    "plt.show()"
   ]
  },
  {
   "cell_type": "code",
   "execution_count": 14,
   "id": "aa114094",
   "metadata": {},
   "outputs": [
    {
     "name": "stdout",
     "output_type": "stream",
     "text": [
      "      Drug  Drug_ID\n",
      "0  DB00157  DB00526\n",
      "1  DB00898  DB00515\n",
      "2  DB00334  DB00958\n",
      "3  DB00142  DB00398\n",
      "4  DB00543  DB08896\n",
      "5  DB00321  DB00726\n",
      "6  DB00114  DB00182\n",
      "7  DB01049  DB00715\n",
      "8  DB00363  DB00370\n",
      "9  DB00313  DB01614\n"
     ]
    }
   ],
   "source": [
    "df1 = pd.read_excel('/home/is/mostatika-a/Research/Drug(Found).xlsx')\n",
    "print(df1.head(10))"
   ]
  },
  {
   "cell_type": "code",
   "execution_count": 17,
   "id": "17b52f1b",
   "metadata": {},
   "outputs": [],
   "source": [
    "from functools import reduce\n",
    "#list(reduce(set.intersection, map(set, [df1.Drug, df1.Drug_ID])))"
   ]
  },
  {
   "cell_type": "code",
   "execution_count": null,
   "id": "bc684b09",
   "metadata": {},
   "outputs": [],
   "source": [
    "df = pd.read_excel('/home/is/mostatika-a/Research/For AUC.xlsx')\n",
    "\n",
    "y1=[1, 0, 0, 0, 1];\n",
    "y2=[1, 1, 0, 0, 1];\n",
    "y3=[0, 0, 1, 0, 1];\n",
    "from sklearn.metrics import *\n",
    "import pandas as pd\n",
    "import matplotlib.pyplot as plt\n",
    "\n",
    "plt.figure(figsize=(14,10),dpi=640)\n",
    "fpr, tpr, thresholds = roc_curve(df.S_Score, df.)\n",
    "auc1 = auc(fpr,tpr)\n",
    "\n",
    "plt.plot(fpr, tpr,label=\"AUC Y2:{0}\".format(auc1),color='red', linewidth=2)\n",
    "\n",
    "fpr, tpr, thresholds = roc_curve(y1, y3)\n",
    "auc1 = auc(fpr,tpr)\n",
    "\n",
    "plt.plot(fpr, tpr,label=\"AUC Y3:{0}\".format(auc1),color='blue', linewidth=2)\n",
    "\n",
    "plt.plot([0, 1], [0, 1], 'k--', lw=1) \n",
    "plt.xlim([0.0, 1.0]) \n",
    "plt.ylim([0.0, 1.05])\n",
    "\n",
    "plt.xlabel('False Positive Rate')  \n",
    "plt.ylabel('True Positive Rate') \n",
    "plt.title('ROC') \n",
    "plt.grid(True)\n",
    "plt.legend(loc=\"lower right\")\n",
    "plt.show()"
   ]
  }
 ],
 "metadata": {
  "kernelspec": {
   "display_name": "Python 3",
   "language": "python",
   "name": "python3"
  },
  "language_info": {
   "codemirror_mode": {
    "name": "ipython",
    "version": 3
   },
   "file_extension": ".py",
   "mimetype": "text/x-python",
   "name": "python",
   "nbconvert_exporter": "python",
   "pygments_lexer": "ipython3",
   "version": "3.8.8"
  }
 },
 "nbformat": 4,
 "nbformat_minor": 5
}
