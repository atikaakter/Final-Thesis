{
 "cells": [
  {
   "cell_type": "code",
   "execution_count": null,
   "id": "2fa09d84",
   "metadata": {},
   "outputs": [],
   "source": [
    "library(dSimer)\n",
    "\n",
    "help(dSimer)\n",
    "\n",
    "\n",
    "install.packages('DOSim')\n",
    "\n",
    "\n",
    "library(\"openxlsx\")\n",
    "library(DOSE)\n",
    "\n",
    "cluster1 <- c(\"835\", \"5261\",\"241\", \"994\")\n",
    "cluster2 <- c(\"307\", \"308\", \"317\", \"321\", \"506\", \"540\", \"378\", \"388\", \"396\")\n",
    "clusterSim(cluster1, cluster2)\n",
    "\n",
    "\n",
    "out <- as.data.frame(read.xlsx(\"D:\\\\MicroRNA\\\\New analysis\\\\review\\\\gwas.xlsx\", sheet=\"Sheet2\" ,startRow = 1, colNames = TRUE , rowNames = FALSE))\n",
    "\n",
    "dname  <- unique(out[,2])\n",
    "dname[1] \n",
    "d2<- subset(trimws(out[,1]) , out$diseaseName=='Inflammatory Bowel Diseases')\n",
    "\n",
    "outp <- data.frame( disname = character(), simval = numeric() , stringsAsFactors=FALSE)\n",
    "\n",
    "for(i in 1:length(dname)) {\n",
    "  d1<- subset(trimws(out[,1]) , out$diseaseName==dname[i])\n",
    "  t1<-clusterSim(d1, d2)\n",
    "  print(t1)\n",
    "  outp =   rbind(outp, data.frame(disname=dname[i],simval=t1))\n",
    "  \n",
    "}\n",
    "\n",
    "write.csv(outp, file = \"D:\\\\MicroRNA\\\\New analysis\\\\review\\\\outp.csv\", row.names = FALSE)\n"
   ]
  }
 ],
 "metadata": {
  "kernelspec": {
   "display_name": "R 4.1.1",
   "language": "R",
   "name": "r411"
  },
  "language_info": {
   "codemirror_mode": "r",
   "file_extension": ".r",
   "mimetype": "text/x-r-source",
   "name": "R",
   "pygments_lexer": "r",
   "version": "4.1.1"
  }
 },
 "nbformat": 4,
 "nbformat_minor": 5
}
